{
 "cells": [
  {
   "cell_type": "code",
   "execution_count": null,
   "id": "chemical-creature",
   "metadata": {},
   "outputs": [],
   "source": [
    "# Anchor:\n",
    "Beginning: ^\n",
    "End: $"
   ]
  },
  {
   "cell_type": "code",
   "execution_count": null,
   "id": "dynamic-friday",
   "metadata": {},
   "outputs": [],
   "source": [
    "#re:\n",
    "findall() -> Array\n",
    "match() -> Boolean\n",
    "search() -> Object w/ span, location; match, patten\n",
    "finditer() -> List of match Object"
   ]
  },
  {
   "cell_type": "code",
   "execution_count": null,
   "id": "similar-woman",
   "metadata": {},
   "outputs": [],
   "source": [
    "Special chars:"
   ]
  },
  {
   "cell_type": "code",
   "execution_count": null,
   "id": "connected-fraud",
   "metadata": {},
   "outputs": [],
   "source": [
    "\"\"\"\"\n",
    "\\(,\\)\n",
    "\\s : space\n",
    "\\d : digit\n",
    "\\w : [a-zA-Z]\n",
    "\"\"\"\"\n",
    "# Quantifiers\n",
    "#{3}, {1,2}: {number counts}\n",
    "# *: 0 ~ more times, ?: 1 ~ more times, +\n",
    "re.findall(\"A{2,10}\", grades)\n",
    "\n",
    "#[AB]: A or B, set operator\n",
    "re.findall(\"[A][BC]\", grades)\n",
    "re.findall(\"AB|AC\", grades)\n",
    "re.findall(\"[^A]\", grades) # not A\n",
    "re.findall(\"^[^A]\", grades) # not A started\n"
   ]
  },
  {
   "cell_type": "code",
   "execution_count": null,
   "id": "built-abraham",
   "metadata": {},
   "outputs": [],
   "source": [
    "# group\n",
    "re.findall(\"([\\w]*)(\\[edit\\])\", wiki)\n",
    "\n",
    "# finditer()\n",
    "for item in re,finditer(\"([\\w]*)(\\[edit\\])\", wiki):\n",
    "#     print(item.group()) # return  a tuple of group, group(0): whole group \n",
    "    print(item.group(1))\n",
    "    \n",
    "# Labeling (?P<name>)\n",
    "for item in re,finditer(\"(?P<title>[\\w]*)(?P<mark>\\[edit\\])\", wiki):\n",
    "    # groupdict() : get dict from item\n",
    "    print(item.groupdict()['title'])\n",
    "    \n",
    "# Labeling unwanted (?=)\n",
    "for item in re,finditer(\"(?P<title>[\\w]*)(?=\\[edit\\])\", wiki):\n",
    "    print(item)\n",
    "\n",
    "# pattern for large regexes\n",
    "pattern = \"\"\"\n",
    "(regex pattern 1)\n",
    "(regex pattern 2)\n",
    "(regex pattern 3)\n",
    "... # add comments\n",
    "\"\"\"\n"
   ]
  },
  {
   "cell_type": "code",
   "execution_count": null,
   "id": "funky-registrar",
   "metadata": {},
   "outputs": [],
   "source": [
    "Handle Domain names"
   ]
  },
  {
   "cell_type": "code",
   "execution_count": null,
   "id": "diverse-school",
   "metadata": {},
   "outputs": [],
   "source": [
    "(?<=[https]:\\/\\/)([A-Za-z0-9.]*)"
   ]
  },
  {
   "cell_type": "code",
   "execution_count": 5,
   "id": "usual-geometry",
   "metadata": {},
   "outputs": [
    {
     "data": {
      "text/plain": [
       "array([[14, 15],\n",
       "       [20, 21]])"
      ]
     },
     "execution_count": 5,
     "metadata": {},
     "output_type": "execute_result"
    }
   ],
   "source": [
    "import numpy as np\n",
    "\n",
    "r = np.array([[0,1,2,3,4,5],[6,7,8,9,10,11],[12,13,14,15,16,17],[18,19,20,21,22,23]])\n",
    "r2 = r[2:4,2:4]\n",
    "# row 2~3 and col 2~3\n",
    "\n",
    "r2"
   ]
  },
  {
   "cell_type": "code",
   "execution_count": 6,
   "id": "extraordinary-heavy",
   "metadata": {},
   "outputs": [
    {
     "name": "stdout",
     "output_type": "stream",
     "text": [
      "57.3 µs ± 1.91 µs per loop (mean ± std. dev. of 7 runs, 10000 loops each)\n"
     ]
    }
   ],
   "source": [
    "import numpy as np\n",
    "\n",
    "a = np.random.randn(100, 100)\n",
    "%timeit np.dot(a, a)"
   ]
  },
  {
   "cell_type": "code",
   "execution_count": 7,
   "id": "removed-egypt",
   "metadata": {},
   "outputs": [],
   "source": [
    "a = [1,2,3]\n",
    "b = a\n",
    "c = list(a)"
   ]
  },
  {
   "cell_type": "code",
   "execution_count": 8,
   "id": "equal-lightweight",
   "metadata": {},
   "outputs": [
    {
     "data": {
      "text/plain": [
       "True"
      ]
     },
     "execution_count": 8,
     "metadata": {},
     "output_type": "execute_result"
    }
   ],
   "source": [
    "a is b"
   ]
  },
  {
   "cell_type": "code",
   "execution_count": 9,
   "id": "christian-northwest",
   "metadata": {},
   "outputs": [
    {
     "data": {
      "text/plain": [
       "True"
      ]
     },
     "execution_count": 9,
     "metadata": {},
     "output_type": "execute_result"
    }
   ],
   "source": [
    "a is not c"
   ]
  },
  {
   "cell_type": "code",
   "execution_count": 10,
   "id": "cubic-guatemala",
   "metadata": {},
   "outputs": [
    {
     "data": {
      "text/plain": [
       "['foo', 2, (3, 4)]"
      ]
     },
     "execution_count": 10,
     "metadata": {},
     "output_type": "execute_result"
    }
   ],
   "source": [
    "a_list = ['foo', 2, [4, 5]]\n",
    "b_list = a_list\n",
    "b_list[2] = (3, 4)\n",
    "    # a_list = ['foo', 2, [3, 4]]\n",
    "    \n",
    "a_list"
   ]
  },
  {
   "cell_type": "code",
   "execution_count": 11,
   "id": "configured-monaco",
   "metadata": {},
   "outputs": [
    {
     "data": {
      "text/plain": [
       "'this is a string'"
      ]
     },
     "execution_count": 11,
     "metadata": {},
     "output_type": "execute_result"
    }
   ],
   "source": [
    "a = 'this is a string'\n",
    "b = a.replace('string', 'longer string')\n",
    "a"
   ]
  },
  {
   "cell_type": "code",
   "execution_count": 12,
   "id": "moving-title",
   "metadata": {},
   "outputs": [
    {
     "data": {
      "text/plain": [
       "'this is a longer string'"
      ]
     },
     "execution_count": 12,
     "metadata": {},
     "output_type": "execute_result"
    }
   ],
   "source": [
    "b"
   ]
  },
  {
   "cell_type": "code",
   "execution_count": null,
   "id": "pediatric-experience",
   "metadata": {},
   "outputs": [],
   "source": []
  }
 ],
 "metadata": {
  "kernelspec": {
   "display_name": "Python 3",
   "language": "python",
   "name": "python3"
  },
  "language_info": {
   "codemirror_mode": {
    "name": "ipython",
    "version": 3
   },
   "file_extension": ".py",
   "mimetype": "text/x-python",
   "name": "python",
   "nbconvert_exporter": "python",
   "pygments_lexer": "ipython3",
   "version": "3.8.2"
  }
 },
 "nbformat": 4,
 "nbformat_minor": 5
}

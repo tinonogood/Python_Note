{
 "cells": [
  {
   "cell_type": "code",
   "execution_count": null,
   "id": "similar-woman",
   "metadata": {},
   "outputs": [],
   "source": [
    "Special chars:"
   ]
  },
  {
   "cell_type": "code",
   "execution_count": null,
   "id": "connected-fraud",
   "metadata": {},
   "outputs": [],
   "source": [
    "\\(,\\)\n",
    "\\s : space\n",
    "\\d : digit\n",
    "\n",
    "{3}, {1,2}: {number counts}"
   ]
  },
  {
   "cell_type": "code",
   "execution_count": null,
   "id": "funky-registrar",
   "metadata": {},
   "outputs": [],
   "source": [
    "Handle Domain names"
   ]
  },
  {
   "cell_type": "code",
   "execution_count": null,
   "id": "diverse-school",
   "metadata": {},
   "outputs": [],
   "source": [
    "(?<=[https]:\\/\\/)([A-Za-z0-9.]*)"
   ]
  },
  {
   "cell_type": "code",
   "execution_count": null,
   "id": "chemical-creature",
   "metadata": {},
   "outputs": [],
   "source": [
    "Beginning"
   ]
  },
  {
   "cell_type": "code",
   "execution_count": null,
   "id": "creative-exception",
   "metadata": {},
   "outputs": [],
   "source": [
    "'^AC'"
   ]
  },
  {
   "cell_type": "code",
   "execution_count": null,
   "id": "usual-geometry",
   "metadata": {},
   "outputs": [],
   "source": [
    "r = np.array\n",
    "r[2:4,2:4]\n",
    "# row 2~3 and col 2~3"
   ]
  },
  {
   "cell_type": "code",
   "execution_count": null,
   "id": "extraordinary-heavy",
   "metadata": {},
   "outputs": [],
   "source": [
    "b[ao]t = bat or bot "
   ]
  }
 ],
 "metadata": {
  "kernelspec": {
   "display_name": "Python 3",
   "language": "python",
   "name": "python3"
  },
  "language_info": {
   "codemirror_mode": {
    "name": "ipython",
    "version": 3
   },
   "file_extension": ".py",
   "mimetype": "text/x-python",
   "name": "python",
   "nbconvert_exporter": "python",
   "pygments_lexer": "ipython3",
   "version": "3.8.2"
  }
 },
 "nbformat": 4,
 "nbformat_minor": 5
}

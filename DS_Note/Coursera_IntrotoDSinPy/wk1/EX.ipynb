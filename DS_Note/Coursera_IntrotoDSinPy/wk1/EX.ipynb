{
 "cells": [
  {
   "cell_type": "code",
   "execution_count": 5,
   "id": "still-jason",
   "metadata": {},
   "outputs": [
    {
     "data": {
      "text/plain": [
       "['Amy', 'Mary', 'Ruth', 'Peter']"
      ]
     },
     "execution_count": 5,
     "metadata": {},
     "output_type": "execute_result"
    }
   ],
   "source": [
    "import re\n",
    "def names():\n",
    "    simple_string = \"\"\"Amy is 5 years old, and her sister Mary is 2 years old. \n",
    "    Ruth and Peter, their parents, have 3 kids.\"\"\"\n",
    "\n",
    "    # YOUR CODE HERE\n",
    "    # Find a list of all of the names in the following string using regex.\n",
    "    result = re.findall('[A-Z][a-z]*' , simple_string)\n",
    "    return result\n",
    "    #raise NotImplementedError()\n",
    "    \n",
    "names()"
   ]
  },
  {
   "cell_type": "code",
   "execution_count": 6,
   "id": "protected-politics",
   "metadata": {},
   "outputs": [],
   "source": [
    "assert len(names()) == 4, \"There are four names in the simple_string\""
   ]
  },
  {
   "cell_type": "code",
   "execution_count": 63,
   "id": "metropolitan-description",
   "metadata": {},
   "outputs": [],
   "source": [
    "grades = \"\"\"Ronald Mayr: A\n",
    "Bell Kassulke: B\n",
    "Jacqueline Rupp: A \n",
    "Alexander Zeller: C\n",
    "Valentina Denk: C \n",
    "Simon Loidl: B \n",
    "Elias Jovanovic: B \n",
    "Stefanie Weninger: A \n",
    "Fabian Peer: C \n",
    "Hakim Botros: B\n",
    "Emilie Lorentsen: B\"\"\""
   ]
  },
  {
   "cell_type": "code",
   "execution_count": 68,
   "id": "civil-latest",
   "metadata": {},
   "outputs": [
    {
     "data": {
      "text/plain": [
       "['Bell Kassulke',\n",
       " 'Simon Loidl',\n",
       " 'Elias Jovanovic',\n",
       " 'Hakim Botros',\n",
       " 'Emilie Lorentsen']"
      ]
     },
     "execution_count": 68,
     "metadata": {},
     "output_type": "execute_result"
    }
   ],
   "source": [
    "# for item in re.findall('[\\w]*\\s[\\w]*\\:\\sB',grades):\n",
    "#     print(re.split(\"[\\:]\", item)[0])\n",
    "    \n",
    "result = [re.split(\"[\\:]\", item)[0] for item in re.findall('[\\w]*\\s[\\w]*\\:\\sB',grades)]\n",
    "result                                                  "
   ]
  },
  {
   "cell_type": "code",
   "execution_count": 44,
   "id": "activated-appraisal",
   "metadata": {},
   "outputs": [],
   "source": [
    "logdata = \"\"\"146.204.224.152 - feest6811 [21/Jun/2019:15:45:24 -0700] \"POST /incentivize HTTP/1.1\" 302 4622\n",
    "197.109.77.178 - kertzmann3129 [21/Jun/2019:15:45:25 -0700] \"DELETE /virtual/solutions/target/web+services HTTP/2.0\" 203 26554\n",
    "113.179.165.89 - - [21/Jun/2019:15:49:44 -0700] \"HEAD /models/innovative/cultivate HTTP/1.0\" 503 17242\n",
    "197.109.77.178 - kertzmann3129 [21/Jun/2019:15:45:25 -0700] \"DELETE /virtual/solutions/target/web+services HTTP/2.0\" 203 26554\n",
    "28.251.116.209 - wuckert7686 [21/Jun/2019:15:46:50 -0700] \"DELETE /productize/maximize HTTP/1.1\" 504 19918\n",
    "197.109.77.178 - kertzmann3129 [21/Jun/2019:15:45:25 -0700] \"DELETE /virtual/solutions/target/web+services HTTP/2.0\" 203 26554\n",
    "\"\"\""
   ]
  },
  {
   "cell_type": "code",
   "execution_count": 45,
   "id": "searching-equality",
   "metadata": {},
   "outputs": [
    {
     "data": {
      "text/plain": [
       "[{'host': '146.204.224.152',\n",
       "  'user_name': 'feest6811',\n",
       "  'time': '21/Jun/2019:15:45:24 -0700',\n",
       "  'request': 'POST /incentivize HTTP/1.1'},\n",
       " {'host': '197.109.77.178',\n",
       "  'user_name': 'kertzmann3129',\n",
       "  'time': '21/Jun/2019:15:45:25 -0700',\n",
       "  'request': 'DELETE /virtual/solutions/target/web+services HTTP/2.0'},\n",
       " {'host': '113.179.165.89',\n",
       "  'user_name': '-',\n",
       "  'time': '21/Jun/2019:15:49:44 -0700',\n",
       "  'request': 'HEAD /models/innovative/cultivate HTTP/1.0'},\n",
       " {'host': '197.109.77.178',\n",
       "  'user_name': 'kertzmann3129',\n",
       "  'time': '21/Jun/2019:15:45:25 -0700',\n",
       "  'request': 'DELETE /virtual/solutions/target/web+services HTTP/2.0'},\n",
       " {'host': '28.251.116.209',\n",
       "  'user_name': 'wuckert7686',\n",
       "  'time': '21/Jun/2019:15:46:50 -0700',\n",
       "  'request': 'DELETE /productize/maximize HTTP/1.1'},\n",
       " {'host': '197.109.77.178',\n",
       "  'user_name': 'kertzmann3129',\n",
       "  'time': '21/Jun/2019:15:45:25 -0700',\n",
       "  'request': 'DELETE /virtual/solutions/target/web+services HTTP/2.0'}]"
      ]
     },
     "execution_count": 45,
     "metadata": {},
     "output_type": "execute_result"
    }
   ],
   "source": [
    "\"\"\"'host': '146.204.224.152',\n",
    "  'user_name': 'feest6811',\n",
    "  'time': '21/Jun/2019:15:45:24 -0700',\n",
    "  'request': 'POST /incentivize HTTP/1.1'\"\"\"\n",
    "\n",
    "# r = re.compile('(?P<host>[0-9]{,3}[.][0-9]{,3}[.][0-9]{,3}[.][0-9]{,3})\\s+-\\s(?P<user_name>[a-z0-9-]*)(?P<time>)(\\[)([0-9.])'\n",
    "#     )\n",
    "import re\n",
    "logs = []\n",
    "for m in re.finditer('(?P<host>.*)\\s\\-\\s(?P<user_name>.*)\\s\\[(?P<time>.*)\\]\\s\\\"(?P<request>.*)\\\"',logdata):\n",
    "    logs.append(m.groupdict())\n",
    "    \n",
    "logs"
   ]
  }
 ],
 "metadata": {
  "kernelspec": {
   "display_name": "Python 3",
   "language": "python",
   "name": "python3"
  },
  "language_info": {
   "codemirror_mode": {
    "name": "ipython",
    "version": 3
   },
   "file_extension": ".py",
   "mimetype": "text/x-python",
   "name": "python",
   "nbconvert_exporter": "python",
   "pygments_lexer": "ipython3",
   "version": "3.8.2"
  }
 },
 "nbformat": 4,
 "nbformat_minor": 5
}

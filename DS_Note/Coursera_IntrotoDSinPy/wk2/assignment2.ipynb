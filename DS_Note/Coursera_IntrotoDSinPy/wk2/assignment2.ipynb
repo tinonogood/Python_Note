{
 "cells": [
  {
   "cell_type": "markdown",
   "id": "eight-viking",
   "metadata": {},
   "source": [
    "Write a function called `proportion_of_education` which returns the proportion of children in the dataset who had a mother with the education levels equal to less than high school (<12), high school (12), more than high school but not a college graduate (>12) and college degree.\n",
    "\n",
    "*This function should return a dictionary in the form of (use the correct numbers, do not round numbers):* \n",
    "```\n",
    "    {\"less than high school\":0.2,\n",
    "    \"high school\":0.4,\n",
    "    \"more than high school but not college\":0.2,\n",
    "    \"college\":0.2}\n",
    "```"
   ]
  },
  {
   "cell_type": "code",
   "execution_count": 2,
   "id": "unlimited-teddy",
   "metadata": {},
   "outputs": [],
   "source": [
    "import pandas as pd\n",
    "df = pd.read_csv('assets/NISPUF17.csv')"
   ]
  },
  {
   "cell_type": "code",
   "execution_count": null,
   "id": "legitimate-premiere",
   "metadata": {},
   "outputs": [],
   "source": [
    "# Method 1 - value_counts() New in version 1.1.0.\n",
    "s = df.value_counts(df['EDUC1'],ascending=True)\n",
    "s2 = s/s.sum()\n",
    "d = s2.to_dict()\n",
    "new_keys = ['less than high school','high school','more than high school but not college','college']\n",
    "x = 1\n",
    "return_d = {}\n",
    "for new_key in new_keys:\n",
    "    return_d[new_key] = d[x]\n",
    "    x +=1\n",
    "return_d"
   ]
  },
  {
   "cell_type": "code",
   "execution_count": 6,
   "id": "insured-steel",
   "metadata": {},
   "outputs": [
    {
     "data": {
      "text/plain": [
       "{'less than high school': 0.10202002459160373,\n",
       " 'high school': 0.172352011241876,\n",
       " 'more than high school but not college': 0.24588090637625154,\n",
       " 'college': 0.47974705779026877}"
      ]
     },
     "execution_count": 6,
     "metadata": {},
     "output_type": "execute_result"
    }
   ],
   "source": [
    "c1 = df[df['EDUC1'] == 1]['SEQNUMC'].count()\n",
    "c2 = df[df['EDUC1'] == 2]['SEQNUMC'].count()\n",
    "c3 = df[df['EDUC1'] == 3]['SEQNUMC'].count()\n",
    "c4 = df[df['EDUC1'] == 4]['SEQNUMC'].count()\n",
    "c_sum = c1 + c2 + c3 + c4\n",
    "p1 = c1 / c_sum\n",
    "p2 = c2 / c_sum\n",
    "p3 = c3 / c_sum\n",
    "p4 = c4 / c_sum\n",
    "\n",
    "keys = ['less than high school','high school','more than high school but not college','college']\n",
    "values = [p1,p2,p3,p4]\n",
    "\n",
    "return_d = dict(zip(keys, values))\n",
    "return_d"
   ]
  },
  {
   "cell_type": "markdown",
   "id": "downtown-closer",
   "metadata": {},
   "source": [
    "Let's explore the relationship between being fed breastmilk as a child and getting a seasonal influenza vaccine from a healthcare provider. Return a tuple of the average number of influenza vaccines for those children we know received breastmilk as a child and those who know did not.\n",
    "\n",
    "This function should return a tuple in the form (use the correct numbers:\n",
    "\n",
    "(2.5, 0.1)"
   ]
  },
  {
   "cell_type": "code",
   "execution_count": 24,
   "id": "certified-italian",
   "metadata": {},
   "outputs": [
    {
     "data": {
      "text/plain": [
       "(1.8799187420058687, 1.5963945918878317)"
      ]
     },
     "execution_count": 24,
     "metadata": {},
     "output_type": "execute_result"
    }
   ],
   "source": [
    "# df[df['CBF_01'] == 1] # Yes, no ,Don't know, Missing\n",
    "df[df['CBF_01'] == 1].mean()['P_NUMFLU']\n",
    "df[df['CBF_01'] == 2].mean()['P_NUMFLU']\n",
    "# df['P_NUMFLU'].dropna()\n",
    "tup = (df[df['CBF_01'] == 1].mean()['P_NUMFLU'], df[df['CBF_01'] == 2].mean()['P_NUMFLU'])\n",
    "tup"
   ]
  },
  {
   "cell_type": "markdown",
   "id": "sealed-blond",
   "metadata": {},
   "source": [
    "It would be interesting to see if there is any evidence of a link between vaccine effectiveness and sex of the child. Calculate the ratio of the number of children who contracted chickenpox but were vaccinated against it (at least one varicella dose) versus those who were vaccinated but did not contract chicken pox. Return results by sex.\n",
    "\n",
    "This function should return a dictionary in the form of (use the correct numbers):\n",
    "\n",
    "    {\"male\":0.2,\n",
    "    \"female\":0.4}\n",
    "Note: To aid in verification, the chickenpox_by_sex()['female'] value the autograder is looking for starts with the digits 0.0077."
   ]
  },
  {
   "cell_type": "code",
   "execution_count": 31,
   "id": "wicked-matthew",
   "metadata": {},
   "outputs": [
    {
     "data": {
      "text/plain": [
       "{'male': 0.009675583380762664, 'female': 0.0077918259335489565}"
      ]
     },
     "execution_count": 31,
     "metadata": {},
     "output_type": "execute_result"
    }
   ],
   "source": [
    "# df['SEX'] 1:Male, 2:Female\n",
    "# df['HAD_CPOX'] 1:Y, 2:N ...# the child has had chicken pox disease\n",
    "# P_NUMVRC: total number of varicella doses\n",
    "\n",
    "# male_COPX_ration = df[df['HAD_CPOX'] == 2 & df['SEX'] == 1] / \n",
    "# df[['HAD_CPOX','AGECPOXR','SEX']].dropna().count()\n",
    "\n",
    "male_contracted_vaccinated = df[(df['HAD_CPOX'] == 1) & (df['SEX'] == 1 ) & (df['P_NUMVRC'] > 0)]['SEQNUMC'].count()\n",
    "male_non_contracted_vaccinated = df[(df['HAD_CPOX'] == 2) & (df['SEX'] == 1) & (df['P_NUMVRC'] > 0)]['SEQNUMC'].count()\n",
    "male_COPX_ratio = male_contracted_vaccinated/male_non_contracted_vaccinated\n",
    "\n",
    "female_contracted_vaccinated = df[(df['HAD_CPOX'] == 1) & (df['SEX'] == 2) & (df['P_NUMVRC'] > 0)]['SEQNUMC'].count()\n",
    "female_non_contracted_vaccinated = df[(df['HAD_CPOX'] == 2) & (df['SEX'] == 2) & (df['P_NUMVRC'] > 0)]['SEQNUMC'].count()\n",
    "female_COPX_ratio = female_contracted_vaccinated/female_non_contracted_vaccinated\n",
    "\n",
    "return_dict = {'male':male_COPX_ratio, 'female':female_COPX_ratio}\n",
    "return_dict"
   ]
  },
  {
   "cell_type": "markdown",
   "id": "stainless-percentage",
   "metadata": {},
   "source": [
    "A correlation is a statistical relationship between two variables. If we wanted to know if vaccines work, we might look at the correlation between the use of the vaccine and whether it results in prevention of the infection or disease [1]. In this question, you are to see if there is a correlation between having had the chicken pox and the number of chickenpox vaccine doses given (varicella).\n",
    "\n",
    "Some notes on interpreting the answer. The `had_chickenpox_column` is either `1` (for yes) or `2` (for no), and the `num_chickenpox_vaccine_column` is the number of doses a child has been given of the varicella vaccine. A positive correlation (e.g., `corr > 0`) means that an increase in `had_chickenpox_column` (which means more no’s) would also increase the values of `num_chickenpox_vaccine_column` (which means more doses of vaccine). If there is a negative correlation (e.g., `corr < 0`), it indicates that having had chickenpox is related to an increase in the number of vaccine doses.\n",
    "\n",
    "Also, `pval` is the probability that we observe a correlation between `had_chickenpox_column` and `num_chickenpox_vaccine_column` which is greater than or equal to a particular value occurred by chance. A small `pval` means that the observed correlation is highly unlikely to occur by chance. In this case, `pval` should be very small (will end in `e-18` indicating a very small number).\n",
    "\n",
    "[1] This isn’t really the full picture, since we are not looking at when the dose was given. It’s possible that children had chickenpox and then their parents went to get them the vaccine. Does this dataset have the data we would need to investigate the timing of the dose?"
   ]
  },
  {
   "cell_type": "code",
   "execution_count": 60,
   "id": "coral-satellite",
   "metadata": {},
   "outputs": [
    {
     "data": {
      "text/html": [
       "<div>\n",
       "<style scoped>\n",
       "    .dataframe tbody tr th:only-of-type {\n",
       "        vertical-align: middle;\n",
       "    }\n",
       "\n",
       "    .dataframe tbody tr th {\n",
       "        vertical-align: top;\n",
       "    }\n",
       "\n",
       "    .dataframe thead th {\n",
       "        text-align: right;\n",
       "    }\n",
       "</style>\n",
       "<table border=\"1\" class=\"dataframe\">\n",
       "  <thead>\n",
       "    <tr style=\"text-align: right;\">\n",
       "      <th></th>\n",
       "      <th>had_chickenpox_column</th>\n",
       "      <th>num_chickenpox_vaccine_column</th>\n",
       "    </tr>\n",
       "  </thead>\n",
       "  <tbody>\n",
       "    <tr>\n",
       "      <th>3</th>\n",
       "      <td>2</td>\n",
       "      <td>1.0</td>\n",
       "    </tr>\n",
       "    <tr>\n",
       "      <th>4</th>\n",
       "      <td>2</td>\n",
       "      <td>0.0</td>\n",
       "    </tr>\n",
       "    <tr>\n",
       "      <th>6</th>\n",
       "      <td>2</td>\n",
       "      <td>1.0</td>\n",
       "    </tr>\n",
       "    <tr>\n",
       "      <th>7</th>\n",
       "      <td>2</td>\n",
       "      <td>0.0</td>\n",
       "    </tr>\n",
       "    <tr>\n",
       "      <th>8</th>\n",
       "      <td>1</td>\n",
       "      <td>0.0</td>\n",
       "    </tr>\n",
       "    <tr>\n",
       "      <th>...</th>\n",
       "      <td>...</td>\n",
       "      <td>...</td>\n",
       "    </tr>\n",
       "    <tr>\n",
       "      <th>28446</th>\n",
       "      <td>2</td>\n",
       "      <td>1.0</td>\n",
       "    </tr>\n",
       "    <tr>\n",
       "      <th>28447</th>\n",
       "      <td>2</td>\n",
       "      <td>1.0</td>\n",
       "    </tr>\n",
       "    <tr>\n",
       "      <th>28449</th>\n",
       "      <td>2</td>\n",
       "      <td>1.0</td>\n",
       "    </tr>\n",
       "    <tr>\n",
       "      <th>28452</th>\n",
       "      <td>2</td>\n",
       "      <td>1.0</td>\n",
       "    </tr>\n",
       "    <tr>\n",
       "      <th>28454</th>\n",
       "      <td>2</td>\n",
       "      <td>1.0</td>\n",
       "    </tr>\n",
       "  </tbody>\n",
       "</table>\n",
       "<p>15286 rows × 2 columns</p>\n",
       "</div>"
      ],
      "text/plain": [
       "       had_chickenpox_column  num_chickenpox_vaccine_column\n",
       "3                          2                            1.0\n",
       "4                          2                            0.0\n",
       "6                          2                            1.0\n",
       "7                          2                            0.0\n",
       "8                          1                            0.0\n",
       "...                      ...                            ...\n",
       "28446                      2                            1.0\n",
       "28447                      2                            1.0\n",
       "28449                      2                            1.0\n",
       "28452                      2                            1.0\n",
       "28454                      2                            1.0\n",
       "\n",
       "[15286 rows x 2 columns]"
      ]
     },
     "execution_count": 60,
     "metadata": {},
     "output_type": "execute_result"
    }
   ],
   "source": [
    "# HAD_CPOX\n",
    "# \n",
    "\n",
    "import scipy.stats as stats\n",
    "import numpy as np\n",
    "import pandas as pd\n",
    "\n",
    "# this is just an example dataframe\n",
    "# df=pd.DataFrame({\"had_chickenpox_column\":np.random.randint(1,3,size=(100)),\n",
    "#                \"num_chickenpox_vaccine_column\":np.random.randint(0,6,size=(100))})\n",
    "\n",
    "# here is some stub code to actually run the correlation\n",
    "# corr, pval=stats.pearsonr(df[\"had_chickenpox_column\"],df[\"num_chickenpox_vaccine_column\"])\n",
    "# corr\n",
    "\n",
    "# just return the correlation\n",
    "#return corr\n",
    "\n",
    "# YOUR CODE HERE\n",
    "df = pd.read_csv('assets/NISPUF17.csv')\n",
    "\n",
    "columns={'HAD_CPOX': 'had_chickenpox_column', 'P_NUMVRC': 'num_chickenpox_vaccine_column'}\n",
    "new_df = df.rename(columns, axis='columns')\n",
    "new_df = new_df[(new_df['had_chickenpox_column'] < 3) & (new_df['had_chickenpox_column'] >0) ]#.dropna()\n",
    "new_df = new_df[['had_chickenpox_column','num_chickenpox_vaccine_column']].dropna()\n",
    "\n",
    "# here is some stub code to actually run the correlation\n",
    "corr, pval=stats.pearsonr(new_df[\"had_chickenpox_column\"],new_df[\"num_chickenpox_vaccine_column\"])\n",
    "\n"
   ]
  }
 ],
 "metadata": {
  "kernelspec": {
   "display_name": "Python 3",
   "language": "python",
   "name": "python3"
  },
  "language_info": {
   "codemirror_mode": {
    "name": "ipython",
    "version": 3
   },
   "file_extension": ".py",
   "mimetype": "text/x-python",
   "name": "python",
   "nbconvert_exporter": "python",
   "pygments_lexer": "ipython3",
   "version": "3.8.2"
  }
 },
 "nbformat": 4,
 "nbformat_minor": 5
}

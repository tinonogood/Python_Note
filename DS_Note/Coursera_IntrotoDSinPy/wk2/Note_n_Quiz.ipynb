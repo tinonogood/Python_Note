{
 "cells": [
  {
   "cell_type": "code",
   "execution_count": 2,
   "id": "seasonal-agreement",
   "metadata": {},
   "outputs": [
    {
     "data": {
      "text/plain": [
       "0    AA\n",
       "1    BB\n",
       "2    CC\n",
       "dtype: object"
      ]
     },
     "execution_count": 2,
     "metadata": {},
     "output_type": "execute_result"
    }
   ],
   "source": [
    "import pandas as pd\n",
    "students = ['AA','BB','CC']\n",
    "pd.Series(students)"
   ]
  },
  {
   "cell_type": "code",
   "execution_count": 3,
   "id": "universal-exemption",
   "metadata": {},
   "outputs": [
    {
     "data": {
      "text/plain": [
       "0    1\n",
       "1    2\n",
       "2    3\n",
       "dtype: int64"
      ]
     },
     "execution_count": 3,
     "metadata": {},
     "output_type": "execute_result"
    }
   ],
   "source": [
    "numbers = [1,2,3]\n",
    "pd.Series(numbers)"
   ]
  },
  {
   "cell_type": "code",
   "execution_count": 4,
   "id": "bizarre-jones",
   "metadata": {},
   "outputs": [
    {
     "data": {
      "text/plain": [
       "0      AA\n",
       "1      BB\n",
       "2    None\n",
       "dtype: object"
      ]
     },
     "execution_count": 4,
     "metadata": {},
     "output_type": "execute_result"
    }
   ],
   "source": [
    "students = ['AA','BB',None]\n",
    "pd.Series(students)"
   ]
  },
  {
   "cell_type": "code",
   "execution_count": 5,
   "id": "novel-point",
   "metadata": {},
   "outputs": [
    {
     "data": {
      "text/plain": [
       "0    1.0\n",
       "1    2.0\n",
       "2    NaN\n",
       "dtype: float64"
      ]
     },
     "execution_count": 5,
     "metadata": {},
     "output_type": "execute_result"
    }
   ],
   "source": [
    "numbers = [1,2,None]\n",
    "pd.Series(numbers)"
   ]
  },
  {
   "cell_type": "code",
   "execution_count": 6,
   "id": "numerous-singing",
   "metadata": {},
   "outputs": [
    {
     "data": {
      "text/plain": [
       "[False, False, True]"
      ]
     },
     "execution_count": 6,
     "metadata": {},
     "output_type": "execute_result"
    }
   ],
   "source": [
    "import numpy as np\n",
    "[np.nan == None, np.nan == np.nan, np.isnan(np.nan)]"
   ]
  },
  {
   "cell_type": "code",
   "execution_count": 7,
   "id": "multiple-chance",
   "metadata": {},
   "outputs": [
    {
     "data": {
      "text/plain": [
       "AA     Phy\n",
       "BB    Chem\n",
       "CC     Eng\n",
       "dtype: object"
      ]
     },
     "execution_count": 7,
     "metadata": {},
     "output_type": "execute_result"
    }
   ],
   "source": [
    "students_scores = {'AA':'Phy','BB':'Chem','CC':'Eng'}\n",
    "s = pd.Series(students_scores)\n",
    "s"
   ]
  },
  {
   "cell_type": "code",
   "execution_count": 8,
   "id": "universal-kelly",
   "metadata": {},
   "outputs": [
    {
     "data": {
      "text/plain": [
       "Index(['AA', 'BB', 'CC'], dtype='object')"
      ]
     },
     "execution_count": 8,
     "metadata": {},
     "output_type": "execute_result"
    }
   ],
   "source": [
    "s.index"
   ]
  },
  {
   "cell_type": "code",
   "execution_count": 9,
   "id": "pediatric-orleans",
   "metadata": {},
   "outputs": [
    {
     "data": {
      "text/plain": [
       "AA     Phy\n",
       "BB    Chem\n",
       "CC     Eng\n",
       "dtype: object"
      ]
     },
     "execution_count": 9,
     "metadata": {},
     "output_type": "execute_result"
    }
   ],
   "source": [
    "s = pd.Series(['Phy', 'Chem', 'Eng'], index=['AA', 'BB', 'CC'])\n",
    "s"
   ]
  },
  {
   "cell_type": "code",
   "execution_count": 10,
   "id": "christian-chancellor",
   "metadata": {},
   "outputs": [
    {
     "data": {
      "text/plain": [
       "AA     Phy\n",
       "BB    Chem\n",
       "DD     NaN\n",
       "dtype: object"
      ]
     },
     "execution_count": 10,
     "metadata": {},
     "output_type": "execute_result"
    }
   ],
   "source": [
    "students_scores = {'AA':'Phy','BB':'Chem','CC':'Eng'}\n",
    "s = pd.Series(students_scores, index=['AA','BB','DD'])\n",
    "s"
   ]
  },
  {
   "cell_type": "code",
   "execution_count": 11,
   "id": "flying-separate",
   "metadata": {},
   "outputs": [
    {
     "data": {
      "text/plain": [
       "'Hist'"
      ]
     },
     "execution_count": 11,
     "metadata": {},
     "output_type": "execute_result"
    }
   ],
   "source": [
    "students_classes = {'AA':'Phy','BB':'Chem','CC':'Eng', 'DD':'Hist'}\n",
    "s = pd.Series(students_classes)\n",
    "s.iloc[3]"
   ]
  },
  {
   "cell_type": "code",
   "execution_count": 12,
   "id": "british-innocent",
   "metadata": {},
   "outputs": [
    {
     "data": {
      "text/plain": [
       "'Chem'"
      ]
     },
     "execution_count": 12,
     "metadata": {},
     "output_type": "execute_result"
    }
   ],
   "source": [
    "s.loc['BB']"
   ]
  },
  {
   "cell_type": "code",
   "execution_count": 13,
   "id": "spoken-kenya",
   "metadata": {},
   "outputs": [
    {
     "data": {
      "text/plain": [
       "'Hist'"
      ]
     },
     "execution_count": 13,
     "metadata": {},
     "output_type": "execute_result"
    }
   ],
   "source": [
    "s[3] # position"
   ]
  },
  {
   "cell_type": "code",
   "execution_count": 14,
   "id": "fourth-essex",
   "metadata": {},
   "outputs": [
    {
     "data": {
      "text/plain": [
       "'Chem'"
      ]
     },
     "execution_count": 14,
     "metadata": {},
     "output_type": "execute_result"
    }
   ],
   "source": [
    "s['BB'] # label"
   ]
  },
  {
   "cell_type": "code",
   "execution_count": 15,
   "id": "threatened-train",
   "metadata": {},
   "outputs": [
    {
     "data": {
      "text/plain": [
       "'Phy'"
      ]
     },
     "execution_count": 15,
     "metadata": {},
     "output_type": "execute_result"
    }
   ],
   "source": [
    "class_code = {99:'Phy', 100:'Chem',101:'Eng',103:'Hist'}\n",
    "s = pd.Series(class_code)\n",
    "s.iloc[0] # s[0] -> error"
   ]
  },
  {
   "cell_type": "code",
   "execution_count": 16,
   "id": "collective-polymer",
   "metadata": {},
   "outputs": [
    {
     "name": "stdout",
     "output_type": "stream",
     "text": [
      "75.0\n"
     ]
    }
   ],
   "source": [
    "grades = pd.Series([90,80,70,60])\n",
    "total = np.sum(grades)\n",
    "print(total/len(grades))"
   ]
  },
  {
   "cell_type": "code",
   "execution_count": 17,
   "id": "talented-drink",
   "metadata": {},
   "outputs": [
    {
     "data": {
      "text/plain": [
       "0    467\n",
       "1     42\n",
       "2     79\n",
       "3    801\n",
       "4    461\n",
       "dtype: int64"
      ]
     },
     "execution_count": 17,
     "metadata": {},
     "output_type": "execute_result"
    }
   ],
   "source": [
    "numbers = pd.Series(np.random.randint(0,1000,10000))\n",
    "numbers.head()"
   ]
  },
  {
   "cell_type": "code",
   "execution_count": 18,
   "id": "tough-inspiration",
   "metadata": {},
   "outputs": [
    {
     "name": "stdout",
     "output_type": "stream",
     "text": [
      "1.81 ms ± 472 µs per loop (mean ± std. dev. of 7 runs, 100 loops each)\n"
     ]
    }
   ],
   "source": [
    "%%timeit -n 100\n",
    "total = 0\n",
    "for number in numbers:\n",
    "    total += number\n",
    "total/len(numbers)"
   ]
  },
  {
   "cell_type": "code",
   "execution_count": 19,
   "id": "framed-arthur",
   "metadata": {},
   "outputs": [
    {
     "name": "stdout",
     "output_type": "stream",
     "text": [
      "139 µs ± 32.6 µs per loop (mean ± std. dev. of 7 runs, 100 loops each)\n"
     ]
    }
   ],
   "source": [
    "%%timeit -n 100\n",
    "total = np.sum(numbers)\n",
    "total/len(numbers)"
   ]
  },
  {
   "cell_type": "code",
   "execution_count": 20,
   "id": "focal-constitution",
   "metadata": {},
   "outputs": [
    {
     "data": {
      "text/plain": [
       "0    469\n",
       "1     44\n",
       "2     81\n",
       "3    803\n",
       "4    463\n",
       "dtype: int64"
      ]
     },
     "execution_count": 20,
     "metadata": {},
     "output_type": "execute_result"
    }
   ],
   "source": [
    "numbers += 2\n",
    "numbers.head()"
   ]
  },
  {
   "cell_type": "code",
   "execution_count": null,
   "id": "looking-motorcycle",
   "metadata": {},
   "outputs": [],
   "source": [
    "%%timeit -n 10\n",
    "s = pd.Series(np.random.randint(0,1000,10000))\n",
    "for label, value in numbers.iteritems():\n",
    "    s.loc[label] = value+2"
   ]
  },
  {
   "cell_type": "code",
   "execution_count": null,
   "id": "essential-karen",
   "metadata": {},
   "outputs": [],
   "source": [
    "%%timeit -n 10\n",
    "s = pd.Series(np.random.randint(0,1000,10000))\n",
    "s += 2"
   ]
  },
  {
   "cell_type": "code",
   "execution_count": null,
   "id": "recent-blame",
   "metadata": {},
   "outputs": [],
   "source": [
    "s = pd.Series([1,2,3])\n",
    "s.loc['AA'] = 102\n",
    "s"
   ]
  },
  {
   "cell_type": "code",
   "execution_count": null,
   "id": "pleased-female",
   "metadata": {},
   "outputs": [],
   "source": [
    "aa_classes = {'AA':'Phy','AA':'Chem','AA':'Eng', 'AA':'Hist'}\n",
    "aa_classes = pd.Series(aa_classes)\n",
    "aa_classes"
   ]
  },
  {
   "cell_type": "code",
   "execution_count": null,
   "id": "laughing-approval",
   "metadata": {},
   "outputs": [],
   "source": [
    "aa_classes = pd.Series(['Phy', 'Chem', 'Eng', 'Hist'], index=['AA', 'AA', 'AA', 'AA'])\n",
    "aa_classes"
   ]
  },
  {
   "cell_type": "code",
   "execution_count": null,
   "id": "derived-trout",
   "metadata": {},
   "outputs": [],
   "source": [
    "students_classes = pd.Series(['Phy', 'Chem', 'Eng', 'Hist'], index=['AA', 'BB', 'CC', 'DD'])\n",
    "all_stu_class = students_classes.append(aa_classes)\n",
    "all_stu_class"
   ]
  },
  {
   "cell_type": "code",
   "execution_count": null,
   "id": "mature-windows",
   "metadata": {},
   "outputs": [],
   "source": [
    "students_classes"
   ]
  },
  {
   "cell_type": "code",
   "execution_count": null,
   "id": "alpine-ferry",
   "metadata": {},
   "outputs": [],
   "source": [
    "all_stu_class.loc['AA']"
   ]
  },
  {
   "cell_type": "code",
   "execution_count": null,
   "id": "latter-novel",
   "metadata": {},
   "outputs": [],
   "source": [
    "import pandas as pd\n",
    "\n",
    "record1 = pd.Series({'Name':'AA', 'Class':'Phy', 'Score':85})\n",
    "record2 = pd.Series({'Name':'BB', 'Class':'Chem', 'Score':82})\n",
    "record3 = pd.Series({'Name':'CC', 'Class':'Bio', 'Score':98})\n",
    "\n",
    "df = pd.DataFrame([record1,record2,record3], index=['school1','school2','school3'])\n",
    "df.head()"
   ]
  },
  {
   "cell_type": "code",
   "execution_count": null,
   "id": "trained-thesis",
   "metadata": {},
   "outputs": [],
   "source": [
    "students = [{'Name':'AA', 'Class':'Phy', 'Score':85},\n",
    "            {'Name':'BB', 'Class':'Chem', 'Score':82},\n",
    "            {'Name':'CC', 'Class':'Bio', 'Score':98}]\n",
    "df = pd.DataFrame(students, index=['school1','school2','school1'])\n",
    "df"
   ]
  },
  {
   "cell_type": "code",
   "execution_count": null,
   "id": "accurate-factor",
   "metadata": {},
   "outputs": [],
   "source": [
    "df.loc['school2']"
   ]
  },
  {
   "cell_type": "code",
   "execution_count": null,
   "id": "agricultural-elimination",
   "metadata": {},
   "outputs": [],
   "source": [
    "type(df.loc['school2'])"
   ]
  },
  {
   "cell_type": "code",
   "execution_count": null,
   "id": "weird-shooting",
   "metadata": {},
   "outputs": [],
   "source": [
    "type(df.loc['school1'])"
   ]
  },
  {
   "cell_type": "code",
   "execution_count": null,
   "id": "impossible-steering",
   "metadata": {},
   "outputs": [],
   "source": [
    "df.loc['school1', 'Name']"
   ]
  },
  {
   "cell_type": "code",
   "execution_count": null,
   "id": "norwegian-purple",
   "metadata": {},
   "outputs": [],
   "source": [
    "df.T"
   ]
  },
  {
   "cell_type": "code",
   "execution_count": null,
   "id": "twenty-english",
   "metadata": {},
   "outputs": [],
   "source": [
    "df.T.loc['Name']"
   ]
  },
  {
   "cell_type": "code",
   "execution_count": null,
   "id": "opening-brave",
   "metadata": {},
   "outputs": [],
   "source": [
    "df['Name']"
   ]
  },
  {
   "cell_type": "code",
   "execution_count": null,
   "id": "civilian-cardiff",
   "metadata": {},
   "outputs": [],
   "source": [
    "type(df['Name'])"
   ]
  },
  {
   "cell_type": "code",
   "execution_count": null,
   "id": "documented-carry",
   "metadata": {},
   "outputs": [],
   "source": [
    "df.loc['school1']['Name']"
   ]
  },
  {
   "cell_type": "code",
   "execution_count": null,
   "id": "stone-europe",
   "metadata": {},
   "outputs": [],
   "source": [
    "print(type(df.loc['school1']))\n",
    "print(type(df.loc['school1']['Name']))"
   ]
  },
  {
   "cell_type": "code",
   "execution_count": null,
   "id": "synthetic-neighborhood",
   "metadata": {},
   "outputs": [],
   "source": [
    "df.loc[:,['Name','Score']]"
   ]
  },
  {
   "cell_type": "code",
   "execution_count": null,
   "id": "theoretical-space",
   "metadata": {},
   "outputs": [],
   "source": [
    "# drop: give new df\n",
    "df.drop('school1')"
   ]
  },
  {
   "cell_type": "code",
   "execution_count": null,
   "id": "dependent-indicator",
   "metadata": {},
   "outputs": [],
   "source": [
    "df"
   ]
  },
  {
   "cell_type": "code",
   "execution_count": null,
   "id": "backed-kidney",
   "metadata": {},
   "outputs": [],
   "source": [
    "copy_df = df.copy()\n",
    "copy_df.drop('Name', inplace=True, axis=1)\n",
    "copy_df"
   ]
  },
  {
   "cell_type": "code",
   "execution_count": null,
   "id": "breeding-numbers",
   "metadata": {},
   "outputs": [],
   "source": [
    "del copy_df['Class']\n",
    "copy_df"
   ]
  },
  {
   "cell_type": "code",
   "execution_count": null,
   "id": "involved-enforcement",
   "metadata": {},
   "outputs": [],
   "source": [
    "df['ClassRanking'] = None\n",
    "df"
   ]
  },
  {
   "cell_type": "code",
   "execution_count": null,
   "id": "pregnant-cancer",
   "metadata": {},
   "outputs": [],
   "source": []
  },
  {
   "cell_type": "code",
   "execution_count": null,
   "id": "understanding-soundtrack",
   "metadata": {},
   "outputs": [],
   "source": []
  },
  {
   "cell_type": "code",
   "execution_count": 1,
   "id": "behind-providence",
   "metadata": {},
   "outputs": [],
   "source": [
    "import pandas as pd\n",
    "\n",
    "sdata = {'Ohio': 35000, 'Texas': 71000, 'Oregon': 16000, 'Utah': 5000}\n",
    "obj1 = pd.Series(sdata)\n",
    "states = ['California', 'Ohio', 'Oregon', 'Texas']\n",
    "obj2 = pd.Series(sdata, index=states)\n",
    "obj3 = pd.isnull(obj2)"
   ]
  },
  {
   "cell_type": "code",
   "execution_count": 2,
   "id": "coral-carolina",
   "metadata": {},
   "outputs": [
    {
     "data": {
      "text/plain": [
       "True"
      ]
     },
     "execution_count": 2,
     "metadata": {},
     "output_type": "execute_result"
    }
   ],
   "source": [
    "x = obj2['California']\n",
    "obj2['California'] != x"
   ]
  },
  {
   "cell_type": "code",
   "execution_count": 3,
   "id": "european-nightlife",
   "metadata": {},
   "outputs": [
    {
     "data": {
      "text/plain": [
       "False"
      ]
     },
     "execution_count": 3,
     "metadata": {},
     "output_type": "execute_result"
    }
   ],
   "source": [
    "obj2['California'] == None"
   ]
  },
  {
   "cell_type": "code",
   "execution_count": 4,
   "id": "rotary-collins",
   "metadata": {},
   "outputs": [
    {
     "data": {
      "text/plain": [
       "True"
      ]
     },
     "execution_count": 4,
     "metadata": {},
     "output_type": "execute_result"
    }
   ],
   "source": [
    "import math\n",
    "math.isnan(obj2['California'])"
   ]
  },
  {
   "cell_type": "code",
   "execution_count": 5,
   "id": "confirmed-springer",
   "metadata": {},
   "outputs": [
    {
     "data": {
      "text/plain": [
       "True"
      ]
     },
     "execution_count": 5,
     "metadata": {},
     "output_type": "execute_result"
    }
   ],
   "source": [
    "obj3['California']"
   ]
  },
  {
   "cell_type": "code",
   "execution_count": 6,
   "id": "atmospheric-aircraft",
   "metadata": {},
   "outputs": [
    {
     "data": {
      "text/plain": [
       "California     True\n",
       "Ohio          False\n",
       "Oregon        False\n",
       "Texas         False\n",
       "dtype: bool"
      ]
     },
     "execution_count": 6,
     "metadata": {},
     "output_type": "execute_result"
    }
   ],
   "source": [
    "obj3"
   ]
  },
  {
   "cell_type": "code",
   "execution_count": 10,
   "id": "coordinate-impression",
   "metadata": {},
   "outputs": [
    {
     "data": {
      "text/plain": [
       "1    Alice\n",
       "2      Bob\n",
       "3     Rita\n",
       "dtype: object"
      ]
     },
     "execution_count": 10,
     "metadata": {},
     "output_type": "execute_result"
    }
   ],
   "source": [
    "import pandas as pd\n",
    "d = {\n",
    "    '1': 'Alice',\n",
    "    '2': 'Bob',\n",
    "    '3': 'Rita',\n",
    "    '4': 'Molly',\n",
    "    '5': 'Ryan'\n",
    "}\n",
    "S = pd.Series(d)\n",
    "S.iloc[0:3]"
   ]
  },
  {
   "cell_type": "code",
   "execution_count": 15,
   "id": "industrial-butter",
   "metadata": {},
   "outputs": [
    {
     "data": {
      "text/html": [
       "<div>\n",
       "<style scoped>\n",
       "    .dataframe tbody tr th:only-of-type {\n",
       "        vertical-align: middle;\n",
       "    }\n",
       "\n",
       "    .dataframe tbody tr th {\n",
       "        vertical-align: top;\n",
       "    }\n",
       "\n",
       "    .dataframe thead th {\n",
       "        text-align: right;\n",
       "    }\n",
       "</style>\n",
       "<table border=\"1\" class=\"dataframe\">\n",
       "  <thead>\n",
       "    <tr style=\"text-align: right;\">\n",
       "      <th></th>\n",
       "      <th>NAME</th>\n",
       "      <th>CLASS</th>\n",
       "      <th>SCORE</th>\n",
       "    </tr>\n",
       "  </thead>\n",
       "  <tbody>\n",
       "    <tr>\n",
       "      <th>school1</th>\n",
       "      <td>AA</td>\n",
       "      <td>Phy</td>\n",
       "      <td>85</td>\n",
       "    </tr>\n",
       "    <tr>\n",
       "      <th>school2</th>\n",
       "      <td>BB</td>\n",
       "      <td>Chem</td>\n",
       "      <td>82</td>\n",
       "    </tr>\n",
       "    <tr>\n",
       "      <th>school1</th>\n",
       "      <td>CC</td>\n",
       "      <td>Bio</td>\n",
       "      <td>98</td>\n",
       "    </tr>\n",
       "  </tbody>\n",
       "</table>\n",
       "</div>"
      ],
      "text/plain": [
       "        NAME CLASS  SCORE\n",
       "school1   AA   Phy     85\n",
       "school2   BB  Chem     82\n",
       "school1   CC   Bio     98"
      ]
     },
     "execution_count": 15,
     "metadata": {},
     "output_type": "execute_result"
    }
   ],
   "source": [
    "students = [{'Name':'AA', 'Class':'Phy', 'Score':85},\n",
    "            {'Name':'BB', 'Class':'Chem', 'Score':82},\n",
    "            {'Name':'CC', 'Class':'Bio', 'Score':98}]\n",
    "df = pd.DataFrame(students, index=['school1','school2','school1'])\n",
    "\n",
    "# df.rename(mapper = lambda x:x.upper(), axis=1)\n",
    "# df\n",
    "\n",
    "# df = df.rename(mapper = lambda x:x.upper(), axis=1)\n",
    "# df\n",
    "\n",
    "# df = df.rename(mapper = lambda x:x.upper(), axis='columns')\n",
    "# df\n",
    "\n",
    "df.rename(mapper = lambda x:x.upper(), axis=1, inplace='True')\n",
    "df"
   ]
  },
  {
   "cell_type": "code",
   "execution_count": 12,
   "id": "sixth-bachelor",
   "metadata": {},
   "outputs": [
    {
     "data": {
      "text/html": [
       "<div>\n",
       "<style scoped>\n",
       "    .dataframe tbody tr th:only-of-type {\n",
       "        vertical-align: middle;\n",
       "    }\n",
       "\n",
       "    .dataframe tbody tr th {\n",
       "        vertical-align: top;\n",
       "    }\n",
       "\n",
       "    .dataframe thead th {\n",
       "        text-align: right;\n",
       "    }\n",
       "</style>\n",
       "<table border=\"1\" class=\"dataframe\">\n",
       "  <thead>\n",
       "    <tr style=\"text-align: right;\">\n",
       "      <th></th>\n",
       "      <th>NAME</th>\n",
       "      <th>CLASS</th>\n",
       "      <th>SCORE</th>\n",
       "    </tr>\n",
       "  </thead>\n",
       "  <tbody>\n",
       "    <tr>\n",
       "      <th>school1</th>\n",
       "      <td>AA</td>\n",
       "      <td>Phy</td>\n",
       "      <td>85</td>\n",
       "    </tr>\n",
       "    <tr>\n",
       "      <th>school2</th>\n",
       "      <td>BB</td>\n",
       "      <td>Chem</td>\n",
       "      <td>82</td>\n",
       "    </tr>\n",
       "    <tr>\n",
       "      <th>school1</th>\n",
       "      <td>CC</td>\n",
       "      <td>Bio</td>\n",
       "      <td>98</td>\n",
       "    </tr>\n",
       "  </tbody>\n",
       "</table>\n",
       "</div>"
      ],
      "text/plain": [
       "        NAME CLASS  SCORE\n",
       "school1   AA   Phy     85\n",
       "school2   BB  Chem     82\n",
       "school1   CC   Bio     98"
      ]
     },
     "execution_count": 12,
     "metadata": {},
     "output_type": "execute_result"
    }
   ],
   "source": [
    "df = df.rename(mapper = lambda x:x.upper(), axis=1)\n",
    "df"
   ]
  },
  {
   "cell_type": "code",
   "execution_count": 24,
   "id": "manufactured-spelling",
   "metadata": {},
   "outputs": [
    {
     "data": {
      "text/html": [
       "<div>\n",
       "<style scoped>\n",
       "    .dataframe tbody tr th:only-of-type {\n",
       "        vertical-align: middle;\n",
       "    }\n",
       "\n",
       "    .dataframe tbody tr th {\n",
       "        vertical-align: top;\n",
       "    }\n",
       "\n",
       "    .dataframe thead th {\n",
       "        text-align: right;\n",
       "    }\n",
       "</style>\n",
       "<table border=\"1\" class=\"dataframe\">\n",
       "  <thead>\n",
       "    <tr style=\"text-align: right;\">\n",
       "      <th></th>\n",
       "      <th>Serial No</th>\n",
       "      <th>gre score</th>\n",
       "      <th>toefl score</th>\n",
       "    </tr>\n",
       "  </thead>\n",
       "  <tbody>\n",
       "    <tr>\n",
       "      <th>0</th>\n",
       "      <td>1</td>\n",
       "      <td>337.0</td>\n",
       "      <td>118.0</td>\n",
       "    </tr>\n",
       "    <tr>\n",
       "      <th>1</th>\n",
       "      <td>2</td>\n",
       "      <td>327.0</td>\n",
       "      <td>108.0</td>\n",
       "    </tr>\n",
       "  </tbody>\n",
       "</table>\n",
       "</div>"
      ],
      "text/plain": [
       "   Serial No  gre score  toefl score\n",
       "0          1      337.0        118.0\n",
       "1          2      327.0        108.0"
      ]
     },
     "execution_count": 24,
     "metadata": {},
     "output_type": "execute_result"
    }
   ],
   "source": [
    "toefl_score = [\n",
    "    {'Serial No':1, 'gre score':337, 'toefl score':118},\n",
    "    {'Serial No':2, 'gre score':327, 'toefl score':108},\n",
    "    {'Serial No':3, 'gre score':317, 'toefl score':100},\n",
    "    {'Serial No':4, 'gre score':307},\n",
    "    {'Serial No':4, 'toefl score':107}\n",
    "]\n",
    "df = pd.DataFrame(toefl_score)\n",
    "df[df['toefl score'] > 105].dropna()"
   ]
  },
  {
   "cell_type": "code",
   "execution_count": 30,
   "id": "sharp-bobby",
   "metadata": {},
   "outputs": [
    {
     "data": {
      "text/html": [
       "<div>\n",
       "<style scoped>\n",
       "    .dataframe tbody tr th:only-of-type {\n",
       "        vertical-align: middle;\n",
       "    }\n",
       "\n",
       "    .dataframe tbody tr th {\n",
       "        vertical-align: top;\n",
       "    }\n",
       "\n",
       "    .dataframe thead th {\n",
       "        text-align: right;\n",
       "    }\n",
       "</style>\n",
       "<table border=\"1\" class=\"dataframe\">\n",
       "  <thead>\n",
       "    <tr style=\"text-align: right;\">\n",
       "      <th></th>\n",
       "      <th>one</th>\n",
       "      <th>three</th>\n",
       "    </tr>\n",
       "  </thead>\n",
       "  <tbody>\n",
       "    <tr>\n",
       "      <th>Ohio</th>\n",
       "      <td>0</td>\n",
       "      <td>2</td>\n",
       "    </tr>\n",
       "    <tr>\n",
       "      <th>Colorado</th>\n",
       "      <td>4</td>\n",
       "      <td>6</td>\n",
       "    </tr>\n",
       "    <tr>\n",
       "      <th>Utah</th>\n",
       "      <td>8</td>\n",
       "      <td>10</td>\n",
       "    </tr>\n",
       "  </tbody>\n",
       "</table>\n",
       "</div>"
      ],
      "text/plain": [
       "          one  three\n",
       "Ohio        0      2\n",
       "Colorado    4      6\n",
       "Utah        8     10"
      ]
     },
     "execution_count": 30,
     "metadata": {},
     "output_type": "execute_result"
    }
   ],
   "source": [
    "locations = [\n",
    "    {'one':0, 'two':1, 'three':2},\n",
    "    {'one':4, 'two':5, 'three':6},\n",
    "    {'one':8, 'two':9, 'three':10}\n",
    "]\n",
    "df = pd.DataFrame(locations, index = ['Ohio', 'Colorado', 'Utah'])\n",
    "# df.drop(['Ohio', 'Utah'])\n",
    "# df.drop('Ohio')\n",
    "df.drop('two', axis =1)  # df.drop('two') should claim \"axis\""
   ]
  },
  {
   "cell_type": "code",
   "execution_count": 38,
   "id": "noted-kernel",
   "metadata": {},
   "outputs": [
    {
     "data": {
      "text/plain": [
       "Alice    2\n",
       "Molly    3\n",
       "dtype: int64"
      ]
     },
     "execution_count": 38,
     "metadata": {},
     "output_type": "execute_result"
    }
   ],
   "source": [
    "import pandas as pd\n",
    "s1 = pd.Series({1: 'Alice', 2: 'Jack', 3: 'Molly'})\n",
    "# s1.loc[1]\n",
    "s2 = pd.Series({'Alice': 1, 'Jack': 2, 'Molly': 3})\n",
    "# s2.loc[1] # Error!!\n",
    "# s2[1] # 2\n",
    "# s2.iloc[1] # 2"
   ]
  },
  {
   "cell_type": "code",
   "execution_count": 39,
   "id": "directed-pride",
   "metadata": {},
   "outputs": [
    {
     "data": {
      "text/plain": [
       "AA     Phy\n",
       "AA    Chem\n",
       "AA     Eng\n",
       "AA    Hist\n",
       "dtype: object"
      ]
     },
     "execution_count": 39,
     "metadata": {},
     "output_type": "execute_result"
    }
   ],
   "source": [
    "aa_classes = pd.Series(['Phy', 'Chem', 'Eng', 'Hist'], index=['AA', 'AA', 'AA', 'AA'])\n",
    "aa_classes['AA']"
   ]
  },
  {
   "cell_type": "code",
   "execution_count": 42,
   "id": "rising-driver",
   "metadata": {},
   "outputs": [
    {
     "data": {
      "text/html": [
       "<div>\n",
       "<style scoped>\n",
       "    .dataframe tbody tr th:only-of-type {\n",
       "        vertical-align: middle;\n",
       "    }\n",
       "\n",
       "    .dataframe tbody tr th {\n",
       "        vertical-align: top;\n",
       "    }\n",
       "\n",
       "    .dataframe thead th {\n",
       "        text-align: right;\n",
       "    }\n",
       "</style>\n",
       "<table border=\"1\" class=\"dataframe\">\n",
       "  <thead>\n",
       "    <tr style=\"text-align: right;\">\n",
       "      <th></th>\n",
       "      <th>Serial No</th>\n",
       "      <th>gre score</th>\n",
       "      <th>toefl score</th>\n",
       "    </tr>\n",
       "  </thead>\n",
       "  <tbody>\n",
       "    <tr>\n",
       "      <th>1</th>\n",
       "      <td>2</td>\n",
       "      <td>327.0</td>\n",
       "      <td>108.0</td>\n",
       "    </tr>\n",
       "  </tbody>\n",
       "</table>\n",
       "</div>"
      ],
      "text/plain": [
       "   Serial No  gre score  toefl score\n",
       "1          2      327.0        108.0"
      ]
     },
     "execution_count": 42,
     "metadata": {},
     "output_type": "execute_result"
    }
   ],
   "source": [
    "toefl_score = [\n",
    "    {'Serial No':1, 'gre score':337, 'toefl score':115},\n",
    "    {'Serial No':2, 'gre score':327, 'toefl score':108},\n",
    "    {'Serial No':3, 'gre score':317, 'toefl score':100},\n",
    "    {'Serial No':4, 'gre score':307},\n",
    "    {'Serial No':4, 'toefl score':105}\n",
    "]\n",
    "df = pd.DataFrame(toefl_score)\n",
    "df[(df['toefl score'].isin(range(106,115)))]"
   ]
  },
  {
   "cell_type": "code",
   "execution_count": 45,
   "id": "suffering-disclaimer",
   "metadata": {},
   "outputs": [
    {
     "data": {
      "text/plain": [
       "0    False\n",
       "1     True\n",
       "2    False\n",
       "3    False\n",
       "4    False\n",
       "Name: toefl score, dtype: bool"
      ]
     },
     "execution_count": 45,
     "metadata": {},
     "output_type": "execute_result"
    }
   ],
   "source": [
    "(df['toefl score'] > 105 ) & (df['toefl score'] < 115 ) # Will give boll Series\n",
    "df[(df['toefl score'] > 105 ) & (df['toefl score'] < 115 )]"
   ]
  },
  {
   "cell_type": "code",
   "execution_count": 47,
   "id": "therapeutic-commander",
   "metadata": {},
   "outputs": [
    {
     "data": {
      "text/html": [
       "<div>\n",
       "<style scoped>\n",
       "    .dataframe tbody tr th:only-of-type {\n",
       "        vertical-align: middle;\n",
       "    }\n",
       "\n",
       "    .dataframe tbody tr th {\n",
       "        vertical-align: top;\n",
       "    }\n",
       "\n",
       "    .dataframe thead th {\n",
       "        text-align: right;\n",
       "    }\n",
       "</style>\n",
       "<table border=\"1\" class=\"dataframe\">\n",
       "  <thead>\n",
       "    <tr style=\"text-align: right;\">\n",
       "      <th></th>\n",
       "      <th>Serial No</th>\n",
       "      <th>gre score</th>\n",
       "      <th>toefl score</th>\n",
       "    </tr>\n",
       "  </thead>\n",
       "  <tbody>\n",
       "    <tr>\n",
       "      <th>1</th>\n",
       "      <td>2</td>\n",
       "      <td>327.0</td>\n",
       "      <td>108.0</td>\n",
       "    </tr>\n",
       "  </tbody>\n",
       "</table>\n",
       "</div>"
      ],
      "text/plain": [
       "   Serial No  gre score  toefl score\n",
       "1          2      327.0        108.0"
      ]
     },
     "execution_count": 47,
     "metadata": {},
     "output_type": "execute_result"
    }
   ],
   "source": [
    "df[(df['toefl score'].gt(105) ) & (df['toefl score'].lt(115) )]"
   ]
  },
  {
   "cell_type": "code",
   "execution_count": 52,
   "id": "french-ending",
   "metadata": {},
   "outputs": [
    {
     "data": {
      "text/plain": [
       "Name      Alice\n",
       "Age           1\n",
       "Gender        F\n",
       "Name: Mathmatics, dtype: object"
      ]
     },
     "execution_count": 52,
     "metadata": {},
     "output_type": "execute_result"
    }
   ],
   "source": [
    "locations = [\n",
    "    {'Name':'Alice', 'Age':1, 'Gender':'F'},\n",
    "    {'Name':'Jack', 'Age':5, 'Gender':'M'},\n",
    "    {'Name':'Alice', 'Age':5, 'Gender':'M'}\n",
    "]\n",
    "df = pd.DataFrame(locations, index = ['Mathmatics', 'Sociology', 'Math'])\n",
    "df.T['Mathmatics']"
   ]
  }
 ],
 "metadata": {
  "kernelspec": {
   "display_name": "Python 3",
   "language": "python",
   "name": "python3"
  },
  "language_info": {
   "codemirror_mode": {
    "name": "ipython",
    "version": 3
   },
   "file_extension": ".py",
   "mimetype": "text/x-python",
   "name": "python",
   "nbconvert_exporter": "python",
   "pygments_lexer": "ipython3",
   "version": "3.8.2"
  }
 },
 "nbformat": 4,
 "nbformat_minor": 5
}

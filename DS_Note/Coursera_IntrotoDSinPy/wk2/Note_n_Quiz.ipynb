{
 "cells": [
  {
   "cell_type": "code",
   "execution_count": 16,
   "id": "seasonal-agreement",
   "metadata": {},
   "outputs": [
    {
     "data": {
      "text/plain": [
       "0    AA\n",
       "1    BB\n",
       "2    CC\n",
       "dtype: object"
      ]
     },
     "execution_count": 16,
     "metadata": {},
     "output_type": "execute_result"
    }
   ],
   "source": [
    "import pandas as pd\n",
    "students = ['AA','BB','CC']\n",
    "pd.Series(students)"
   ]
  },
  {
   "cell_type": "code",
   "execution_count": null,
   "id": "universal-exemption",
   "metadata": {},
   "outputs": [],
   "source": [
    "numbers = [1,2,3]\n",
    "pd.Series(numbers)"
   ]
  },
  {
   "cell_type": "code",
   "execution_count": null,
   "id": "bizarre-jones",
   "metadata": {},
   "outputs": [],
   "source": [
    "students = ['AA','BB',None]\n",
    "pd.Series(students)"
   ]
  },
  {
   "cell_type": "code",
   "execution_count": null,
   "id": "novel-point",
   "metadata": {},
   "outputs": [],
   "source": [
    "numbers = [1,2,None]\n",
    "pd.Series(numbers)"
   ]
  },
  {
   "cell_type": "code",
   "execution_count": null,
   "id": "numerous-singing",
   "metadata": {},
   "outputs": [],
   "source": [
    "import numpy as np\n",
    "[np.nan == None, np.nan == np.nan, np.isnan(np.nan)]"
   ]
  },
  {
   "cell_type": "code",
   "execution_count": 17,
   "id": "multiple-chance",
   "metadata": {},
   "outputs": [
    {
     "data": {
      "text/plain": [
       "AA     Phy\n",
       "BB    Chem\n",
       "CC     Eng\n",
       "dtype: object"
      ]
     },
     "execution_count": 17,
     "metadata": {},
     "output_type": "execute_result"
    }
   ],
   "source": [
    "students_scores = {'AA':'Phy','BB':'Chem','CC':'Eng'}\n",
    "s = pd.Series(students_scores)\n",
    "s"
   ]
  },
  {
   "cell_type": "code",
   "execution_count": null,
   "id": "universal-kelly",
   "metadata": {},
   "outputs": [],
   "source": [
    "s.index"
   ]
  },
  {
   "cell_type": "code",
   "execution_count": null,
   "id": "pediatric-orleans",
   "metadata": {},
   "outputs": [],
   "source": [
    "s = pd.Series(['Phy', 'Chem', 'Eng'], index=['AA', 'BB', 'CC'])\n",
    "s"
   ]
  },
  {
   "cell_type": "code",
   "execution_count": 19,
   "id": "christian-chancellor",
   "metadata": {},
   "outputs": [
    {
     "data": {
      "text/plain": [
       "AA     Phy\n",
       "BB    Chem\n",
       "DD     NaN\n",
       "dtype: object"
      ]
     },
     "execution_count": 19,
     "metadata": {},
     "output_type": "execute_result"
    }
   ],
   "source": [
    "students_scores = {'AA':'Phy','BB':'Chem','CC':'Eng'}\n",
    "s = pd.Series(students_scores, index=['AA','BB','DD'])\n",
    "s"
   ]
  },
  {
   "cell_type": "code",
   "execution_count": 18,
   "id": "flying-separate",
   "metadata": {},
   "outputs": [
    {
     "data": {
      "text/plain": [
       "'Hist'"
      ]
     },
     "execution_count": 18,
     "metadata": {},
     "output_type": "execute_result"
    }
   ],
   "source": [
    "students_classes = {'AA':'Phy','BB':'Chem','CC':'Eng', 'DD':'Hist'}\n",
    "s = pd.Series(students_classes)\n",
    "s.iloc[3]"
   ]
  },
  {
   "cell_type": "code",
   "execution_count": null,
   "id": "british-innocent",
   "metadata": {},
   "outputs": [],
   "source": [
    "s.loc['BB']"
   ]
  },
  {
   "cell_type": "code",
   "execution_count": null,
   "id": "spoken-kenya",
   "metadata": {},
   "outputs": [],
   "source": [
    "s[3] # position"
   ]
  },
  {
   "cell_type": "code",
   "execution_count": null,
   "id": "fourth-essex",
   "metadata": {},
   "outputs": [],
   "source": [
    "s['BB'] # label"
   ]
  },
  {
   "cell_type": "code",
   "execution_count": null,
   "id": "threatened-train",
   "metadata": {},
   "outputs": [],
   "source": [
    "class_code = {99:'Phy', 100:'Chem',101:'Eng',103:'Hist'}\n",
    "s = pd.Series(class_code)\n",
    "s.iloc[0] # s[0] -> error"
   ]
  },
  {
   "cell_type": "code",
   "execution_count": null,
   "id": "collective-polymer",
   "metadata": {},
   "outputs": [],
   "source": [
    "grades = pd.Series([90,80,70,60])\n",
    "total = np.sum(grades)\n",
    "print(total/len(grades))"
   ]
  },
  {
   "cell_type": "code",
   "execution_count": null,
   "id": "talented-drink",
   "metadata": {},
   "outputs": [],
   "source": [
    "numbers = pd.Series(np.random.randint(0,1000,10000))\n",
    "numbers.head()"
   ]
  },
  {
   "cell_type": "code",
   "execution_count": null,
   "id": "tough-inspiration",
   "metadata": {},
   "outputs": [],
   "source": [
    "%%timeit -n 100\n",
    "total = 0\n",
    "for number in numbers:\n",
    "    total += number\n",
    "total/len(numbers)"
   ]
  },
  {
   "cell_type": "code",
   "execution_count": null,
   "id": "framed-arthur",
   "metadata": {},
   "outputs": [],
   "source": [
    "%%timeit -n 100\n",
    "total = np.sum(numbers)\n",
    "total/len(numbers)"
   ]
  },
  {
   "cell_type": "code",
   "execution_count": null,
   "id": "focal-constitution",
   "metadata": {},
   "outputs": [],
   "source": [
    "numbers += 2\n",
    "numbers.head()"
   ]
  },
  {
   "cell_type": "code",
   "execution_count": null,
   "id": "looking-motorcycle",
   "metadata": {},
   "outputs": [],
   "source": [
    "%%timeit -n 10\n",
    "s = pd.Series(np.random.randint(0,1000,10000))\n",
    "for label, value in numbers.iteritems():\n",
    "    s.loc[label] = value+2"
   ]
  },
  {
   "cell_type": "code",
   "execution_count": null,
   "id": "essential-karen",
   "metadata": {},
   "outputs": [],
   "source": [
    "%%timeit -n 10\n",
    "s = pd.Series(np.random.randint(0,1000,10000))\n",
    "s += 2"
   ]
  },
  {
   "cell_type": "code",
   "execution_count": null,
   "id": "recent-blame",
   "metadata": {},
   "outputs": [],
   "source": [
    "s = pd.Series([1,2,3])\n",
    "s.loc['AA'] = 102\n",
    "s"
   ]
  },
  {
   "cell_type": "code",
   "execution_count": null,
   "id": "pleased-female",
   "metadata": {},
   "outputs": [],
   "source": [
    "aa_classes = {'AA':'Phy','AA':'Chem','AA':'Eng', 'AA':'Hist'}\n",
    "aa_classes = pd.Series(aa_classes)\n",
    "aa_classes"
   ]
  },
  {
   "cell_type": "code",
   "execution_count": null,
   "id": "laughing-approval",
   "metadata": {},
   "outputs": [],
   "source": [
    "aa_classes = pd.Series(['Phy', 'Chem', 'Eng', 'Hist'], index=['AA', 'AA', 'AA', 'AA'])\n",
    "aa_classes"
   ]
  },
  {
   "cell_type": "code",
   "execution_count": null,
   "id": "derived-trout",
   "metadata": {},
   "outputs": [],
   "source": [
    "students_classes = pd.Series(['Phy', 'Chem', 'Eng', 'Hist'], index=['AA', 'BB', 'CC', 'DD'])\n",
    "all_stu_class = students_classes.append(aa_classes)\n",
    "all_stu_class"
   ]
  },
  {
   "cell_type": "code",
   "execution_count": null,
   "id": "mature-windows",
   "metadata": {},
   "outputs": [],
   "source": [
    "students_classes"
   ]
  },
  {
   "cell_type": "code",
   "execution_count": null,
   "id": "alpine-ferry",
   "metadata": {},
   "outputs": [],
   "source": [
    "all_stu_class.loc['AA']"
   ]
  },
  {
   "cell_type": "code",
   "execution_count": null,
   "id": "latter-novel",
   "metadata": {},
   "outputs": [],
   "source": [
    "import pandas as pd\n",
    "\n",
    "record1 = pd.Series({'Name':'AA', 'Class':'Phy', 'Score':85})\n",
    "record2 = pd.Series({'Name':'BB', 'Class':'Chem', 'Score':82})\n",
    "record3 = pd.Series({'Name':'CC', 'Class':'Bio', 'Score':98})\n",
    "\n",
    "df = pd.DataFrame([record1,record2,record3], index=['school1','school2','school3'])\n",
    "df.head()"
   ]
  },
  {
   "cell_type": "code",
   "execution_count": null,
   "id": "trained-thesis",
   "metadata": {},
   "outputs": [],
   "source": [
    "import pandas as pd\n",
    "students = [{'Name':'AA', 'Class':'Phy', 'Score':85},\n",
    "            {'Name':'BB', 'Class':'Chem', 'Score':82},\n",
    "            {'Name':'CC', 'Class':'Bio', 'Score':98}]\n",
    "df = pd.DataFrame(students, index=['school1','school2','school1'])\n",
    "df"
   ]
  },
  {
   "cell_type": "code",
   "execution_count": null,
   "id": "accurate-factor",
   "metadata": {},
   "outputs": [],
   "source": [
    "df.loc['school2']"
   ]
  },
  {
   "cell_type": "code",
   "execution_count": null,
   "id": "agricultural-elimination",
   "metadata": {},
   "outputs": [],
   "source": [
    "type(df.loc['school2'])"
   ]
  },
  {
   "cell_type": "code",
   "execution_count": null,
   "id": "weird-shooting",
   "metadata": {},
   "outputs": [],
   "source": [
    "type(df.loc['school1'])"
   ]
  },
  {
   "cell_type": "code",
   "execution_count": null,
   "id": "impossible-steering",
   "metadata": {},
   "outputs": [],
   "source": [
    "df.loc['school1', 'Name']"
   ]
  },
  {
   "cell_type": "code",
   "execution_count": null,
   "id": "norwegian-purple",
   "metadata": {},
   "outputs": [],
   "source": [
    "df.T"
   ]
  },
  {
   "cell_type": "code",
   "execution_count": null,
   "id": "twenty-english",
   "metadata": {},
   "outputs": [],
   "source": [
    "df.T.loc['Name']"
   ]
  },
  {
   "cell_type": "code",
   "execution_count": null,
   "id": "opening-brave",
   "metadata": {},
   "outputs": [],
   "source": [
    "df['Name']"
   ]
  },
  {
   "cell_type": "code",
   "execution_count": null,
   "id": "civilian-cardiff",
   "metadata": {},
   "outputs": [],
   "source": [
    "type(df['Name'])"
   ]
  },
  {
   "cell_type": "code",
   "execution_count": null,
   "id": "documented-carry",
   "metadata": {},
   "outputs": [],
   "source": [
    "df.loc['school1']['Name']"
   ]
  },
  {
   "cell_type": "code",
   "execution_count": null,
   "id": "stone-europe",
   "metadata": {},
   "outputs": [],
   "source": [
    "print(type(df.loc['school1']))\n",
    "print(type(df.loc['school1']['Name']))"
   ]
  },
  {
   "cell_type": "code",
   "execution_count": null,
   "id": "synthetic-neighborhood",
   "metadata": {},
   "outputs": [],
   "source": [
    "df.loc[:,['Name','Score']]"
   ]
  },
  {
   "cell_type": "code",
   "execution_count": null,
   "id": "theoretical-space",
   "metadata": {},
   "outputs": [],
   "source": [
    "# drop: give new df\n",
    "df.drop('school1')"
   ]
  },
  {
   "cell_type": "code",
   "execution_count": null,
   "id": "dependent-indicator",
   "metadata": {},
   "outputs": [],
   "source": [
    "df"
   ]
  },
  {
   "cell_type": "code",
   "execution_count": null,
   "id": "backed-kidney",
   "metadata": {},
   "outputs": [],
   "source": [
    "copy_df = df.copy()\n",
    "copy_df.drop('Name', inplace=True, axis=1)\n",
    "copy_df"
   ]
  },
  {
   "cell_type": "code",
   "execution_count": null,
   "id": "breeding-numbers",
   "metadata": {},
   "outputs": [],
   "source": [
    "del copy_df['Class']\n",
    "copy_df"
   ]
  },
  {
   "cell_type": "code",
   "execution_count": null,
   "id": "involved-enforcement",
   "metadata": {},
   "outputs": [],
   "source": [
    "df['ClassRanking'] = None\n",
    "df"
   ]
  },
  {
   "cell_type": "code",
   "execution_count": null,
   "id": "pregnant-cancer",
   "metadata": {},
   "outputs": [],
   "source": [
    "import pandas as pd\n",
    "\n",
    "df = pd.read_csv('assets\\census.csv') # windows OS\n",
    "df.head()"
   ]
  },
  {
   "cell_type": "code",
   "execution_count": null,
   "id": "understanding-soundtrack",
   "metadata": {},
   "outputs": [],
   "source": [
    "df = pd.read_csv('assets\\census.csv', index_col = ['STNAME', 'CTYNAME']) # windows OS\n",
    "df.head()"
   ]
  },
  {
   "cell_type": "code",
   "execution_count": null,
   "id": "selected-association",
   "metadata": {},
   "outputs": [],
   "source": [
    "new_df = df.rename(columns={'STATE':'Satus', 'COUNTY':'County'})\n",
    "new_df.head()"
   ]
  },
  {
   "cell_type": "code",
   "execution_count": null,
   "id": "aquatic-incident",
   "metadata": {},
   "outputs": [],
   "source": [
    "new_df.columns"
   ]
  },
  {
   "cell_type": "code",
   "execution_count": null,
   "id": "gothic-hands",
   "metadata": {},
   "outputs": [],
   "source": [
    "# mapper\n",
    "new_df = df.rename(mapper = str.strip, acis='columns') # take off space"
   ]
  },
  {
   "cell_type": "code",
   "execution_count": 2,
   "id": "combined-arrangement",
   "metadata": {},
   "outputs": [
    {
     "data": {
      "text/html": [
       "<div>\n",
       "<style scoped>\n",
       "    .dataframe tbody tr th:only-of-type {\n",
       "        vertical-align: middle;\n",
       "    }\n",
       "\n",
       "    .dataframe tbody tr th {\n",
       "        vertical-align: top;\n",
       "    }\n",
       "\n",
       "    .dataframe thead th {\n",
       "        text-align: right;\n",
       "    }\n",
       "</style>\n",
       "<table border=\"1\" class=\"dataframe\">\n",
       "  <thead>\n",
       "    <tr style=\"text-align: right;\">\n",
       "      <th></th>\n",
       "      <th>name</th>\n",
       "      <th>age</th>\n",
       "      <th>gender</th>\n",
       "    </tr>\n",
       "  </thead>\n",
       "  <tbody>\n",
       "    <tr>\n",
       "      <th>Mathmatics</th>\n",
       "      <td>Alice</td>\n",
       "      <td>1</td>\n",
       "      <td>F</td>\n",
       "    </tr>\n",
       "    <tr>\n",
       "      <th>Sociology</th>\n",
       "      <td>Jack</td>\n",
       "      <td>5</td>\n",
       "      <td>M</td>\n",
       "    </tr>\n",
       "    <tr>\n",
       "      <th>Math</th>\n",
       "      <td>Alice</td>\n",
       "      <td>5</td>\n",
       "      <td>M</td>\n",
       "    </tr>\n",
       "  </tbody>\n",
       "</table>\n",
       "</div>"
      ],
      "text/plain": [
       "             name  age gender\n",
       "Mathmatics  Alice    1      F\n",
       "Sociology    Jack    5      M\n",
       "Math        Alice    5      M"
      ]
     },
     "execution_count": 2,
     "metadata": {},
     "output_type": "execute_result"
    }
   ],
   "source": [
    "import pandas as pd\n",
    "\n",
    "# replace columns title\n",
    "locations = [\n",
    "    {'Name':'Alice', 'Age':1, 'Gender':'F'},\n",
    "    {'Name':'Jack', 'Age':5, 'Gender':'M'},\n",
    "    {'Name':'Alice', 'Age':5, 'Gender':'M'}\n",
    "]\n",
    "df = pd.DataFrame(locations, index = ['Mathmatics', 'Sociology', 'Math'])\n",
    "\n",
    "cols = list(df.columns)\n",
    "cols = [x.lower().strip() for x in cols]\n",
    "df.columns= cols\n",
    "df.head()"
   ]
  },
  {
   "cell_type": "code",
   "execution_count": 3,
   "id": "continuous-compound",
   "metadata": {},
   "outputs": [
    {
     "data": {
      "text/plain": [
       "Mathmatics    False\n",
       "Sociology      True\n",
       "Math           True\n",
       "Name: age, dtype: bool"
      ]
     },
     "execution_count": 3,
     "metadata": {},
     "output_type": "execute_result"
    }
   ],
   "source": [
    "age_mask = df['age'] > 2 # Return a bool Series\n",
    "age_mask"
   ]
  },
  {
   "cell_type": "code",
   "execution_count": 4,
   "id": "numerical-lighter",
   "metadata": {},
   "outputs": [
    {
     "data": {
      "text/html": [
       "<div>\n",
       "<style scoped>\n",
       "    .dataframe tbody tr th:only-of-type {\n",
       "        vertical-align: middle;\n",
       "    }\n",
       "\n",
       "    .dataframe tbody tr th {\n",
       "        vertical-align: top;\n",
       "    }\n",
       "\n",
       "    .dataframe thead th {\n",
       "        text-align: right;\n",
       "    }\n",
       "</style>\n",
       "<table border=\"1\" class=\"dataframe\">\n",
       "  <thead>\n",
       "    <tr style=\"text-align: right;\">\n",
       "      <th></th>\n",
       "      <th>name</th>\n",
       "      <th>age</th>\n",
       "      <th>gender</th>\n",
       "    </tr>\n",
       "  </thead>\n",
       "  <tbody>\n",
       "    <tr>\n",
       "      <th>Mathmatics</th>\n",
       "      <td>NaN</td>\n",
       "      <td>NaN</td>\n",
       "      <td>NaN</td>\n",
       "    </tr>\n",
       "    <tr>\n",
       "      <th>Sociology</th>\n",
       "      <td>Jack</td>\n",
       "      <td>5.0</td>\n",
       "      <td>M</td>\n",
       "    </tr>\n",
       "    <tr>\n",
       "      <th>Math</th>\n",
       "      <td>Alice</td>\n",
       "      <td>5.0</td>\n",
       "      <td>M</td>\n",
       "    </tr>\n",
       "  </tbody>\n",
       "</table>\n",
       "</div>"
      ],
      "text/plain": [
       "             name  age gender\n",
       "Mathmatics    NaN  NaN    NaN\n",
       "Sociology    Jack  5.0      M\n",
       "Math        Alice  5.0      M"
      ]
     },
     "execution_count": 4,
     "metadata": {},
     "output_type": "execute_result"
    }
   ],
   "source": [
    "# where()  + mask\n",
    "df.where(age_mask)"
   ]
  },
  {
   "cell_type": "code",
   "execution_count": 5,
   "id": "ordinary-jewel",
   "metadata": {},
   "outputs": [
    {
     "data": {
      "text/html": [
       "<div>\n",
       "<style scoped>\n",
       "    .dataframe tbody tr th:only-of-type {\n",
       "        vertical-align: middle;\n",
       "    }\n",
       "\n",
       "    .dataframe tbody tr th {\n",
       "        vertical-align: top;\n",
       "    }\n",
       "\n",
       "    .dataframe thead th {\n",
       "        text-align: right;\n",
       "    }\n",
       "</style>\n",
       "<table border=\"1\" class=\"dataframe\">\n",
       "  <thead>\n",
       "    <tr style=\"text-align: right;\">\n",
       "      <th></th>\n",
       "      <th>name</th>\n",
       "      <th>age</th>\n",
       "      <th>gender</th>\n",
       "    </tr>\n",
       "  </thead>\n",
       "  <tbody>\n",
       "    <tr>\n",
       "      <th>Sociology</th>\n",
       "      <td>Jack</td>\n",
       "      <td>5.0</td>\n",
       "      <td>M</td>\n",
       "    </tr>\n",
       "    <tr>\n",
       "      <th>Math</th>\n",
       "      <td>Alice</td>\n",
       "      <td>5.0</td>\n",
       "      <td>M</td>\n",
       "    </tr>\n",
       "  </tbody>\n",
       "</table>\n",
       "</div>"
      ],
      "text/plain": [
       "            name  age gender\n",
       "Sociology   Jack  5.0      M\n",
       "Math       Alice  5.0      M"
      ]
     },
     "execution_count": 5,
     "metadata": {},
     "output_type": "execute_result"
    }
   ],
   "source": [
    "# dropna()\n",
    "df.where(age_mask).dropna()"
   ]
  },
  {
   "cell_type": "code",
   "execution_count": 6,
   "id": "coated-perspective",
   "metadata": {},
   "outputs": [
    {
     "data": {
      "text/html": [
       "<div>\n",
       "<style scoped>\n",
       "    .dataframe tbody tr th:only-of-type {\n",
       "        vertical-align: middle;\n",
       "    }\n",
       "\n",
       "    .dataframe tbody tr th {\n",
       "        vertical-align: top;\n",
       "    }\n",
       "\n",
       "    .dataframe thead th {\n",
       "        text-align: right;\n",
       "    }\n",
       "</style>\n",
       "<table border=\"1\" class=\"dataframe\">\n",
       "  <thead>\n",
       "    <tr style=\"text-align: right;\">\n",
       "      <th></th>\n",
       "      <th>name</th>\n",
       "      <th>age</th>\n",
       "      <th>gender</th>\n",
       "    </tr>\n",
       "  </thead>\n",
       "  <tbody>\n",
       "    <tr>\n",
       "      <th>Sociology</th>\n",
       "      <td>Jack</td>\n",
       "      <td>5</td>\n",
       "      <td>M</td>\n",
       "    </tr>\n",
       "    <tr>\n",
       "      <th>Math</th>\n",
       "      <td>Alice</td>\n",
       "      <td>5</td>\n",
       "      <td>M</td>\n",
       "    </tr>\n",
       "  </tbody>\n",
       "</table>\n",
       "</div>"
      ],
      "text/plain": [
       "            name  age gender\n",
       "Sociology   Jack    5      M\n",
       "Math       Alice    5      M"
      ]
     },
     "execution_count": 6,
     "metadata": {},
     "output_type": "execute_result"
    }
   ],
   "source": [
    "df[df['age'] > 2]"
   ]
  },
  {
   "cell_type": "code",
   "execution_count": 7,
   "id": "awful-oklahoma",
   "metadata": {},
   "outputs": [
    {
     "data": {
      "text/html": [
       "<div>\n",
       "<style scoped>\n",
       "    .dataframe tbody tr th:only-of-type {\n",
       "        vertical-align: middle;\n",
       "    }\n",
       "\n",
       "    .dataframe tbody tr th {\n",
       "        vertical-align: top;\n",
       "    }\n",
       "\n",
       "    .dataframe thead th {\n",
       "        text-align: right;\n",
       "    }\n",
       "</style>\n",
       "<table border=\"1\" class=\"dataframe\">\n",
       "  <thead>\n",
       "    <tr style=\"text-align: right;\">\n",
       "      <th></th>\n",
       "      <th>name</th>\n",
       "      <th>age</th>\n",
       "    </tr>\n",
       "  </thead>\n",
       "  <tbody>\n",
       "    <tr>\n",
       "      <th>Mathmatics</th>\n",
       "      <td>Alice</td>\n",
       "      <td>1</td>\n",
       "    </tr>\n",
       "    <tr>\n",
       "      <th>Sociology</th>\n",
       "      <td>Jack</td>\n",
       "      <td>5</td>\n",
       "    </tr>\n",
       "    <tr>\n",
       "      <th>Math</th>\n",
       "      <td>Alice</td>\n",
       "      <td>5</td>\n",
       "    </tr>\n",
       "  </tbody>\n",
       "</table>\n",
       "</div>"
      ],
      "text/plain": [
       "             name  age\n",
       "Mathmatics  Alice    1\n",
       "Sociology    Jack    5\n",
       "Math        Alice    5"
      ]
     },
     "execution_count": 7,
     "metadata": {},
     "output_type": "execute_result"
    }
   ],
   "source": [
    "df[['name','age']]"
   ]
  },
  {
   "cell_type": "code",
   "execution_count": 13,
   "id": "australian-movie",
   "metadata": {},
   "outputs": [
    {
     "data": {
      "text/html": [
       "<div>\n",
       "<style scoped>\n",
       "    .dataframe tbody tr th:only-of-type {\n",
       "        vertical-align: middle;\n",
       "    }\n",
       "\n",
       "    .dataframe tbody tr th {\n",
       "        vertical-align: top;\n",
       "    }\n",
       "\n",
       "    .dataframe thead th {\n",
       "        text-align: right;\n",
       "    }\n",
       "</style>\n",
       "<table border=\"1\" class=\"dataframe\">\n",
       "  <thead>\n",
       "    <tr style=\"text-align: right;\">\n",
       "      <th></th>\n",
       "      <th>Serial No.</th>\n",
       "      <th>GRE Score</th>\n",
       "      <th>TOEFL Score</th>\n",
       "      <th>University Rating</th>\n",
       "      <th>SOP</th>\n",
       "      <th>LOR</th>\n",
       "      <th>CGPA</th>\n",
       "      <th>Research</th>\n",
       "      <th>Chance of Admit</th>\n",
       "    </tr>\n",
       "  </thead>\n",
       "  <tbody>\n",
       "    <tr>\n",
       "      <th>0</th>\n",
       "      <td>1</td>\n",
       "      <td>337</td>\n",
       "      <td>118</td>\n",
       "      <td>4</td>\n",
       "      <td>4.5</td>\n",
       "      <td>4.5</td>\n",
       "      <td>9.65</td>\n",
       "      <td>1</td>\n",
       "      <td>0.92</td>\n",
       "    </tr>\n",
       "    <tr>\n",
       "      <th>1</th>\n",
       "      <td>2</td>\n",
       "      <td>324</td>\n",
       "      <td>107</td>\n",
       "      <td>4</td>\n",
       "      <td>4.0</td>\n",
       "      <td>4.5</td>\n",
       "      <td>8.87</td>\n",
       "      <td>1</td>\n",
       "      <td>0.76</td>\n",
       "    </tr>\n",
       "    <tr>\n",
       "      <th>2</th>\n",
       "      <td>3</td>\n",
       "      <td>316</td>\n",
       "      <td>104</td>\n",
       "      <td>3</td>\n",
       "      <td>3.0</td>\n",
       "      <td>3.5</td>\n",
       "      <td>8.00</td>\n",
       "      <td>1</td>\n",
       "      <td>0.72</td>\n",
       "    </tr>\n",
       "    <tr>\n",
       "      <th>3</th>\n",
       "      <td>4</td>\n",
       "      <td>322</td>\n",
       "      <td>110</td>\n",
       "      <td>3</td>\n",
       "      <td>3.5</td>\n",
       "      <td>2.5</td>\n",
       "      <td>8.67</td>\n",
       "      <td>1</td>\n",
       "      <td>0.80</td>\n",
       "    </tr>\n",
       "    <tr>\n",
       "      <th>4</th>\n",
       "      <td>5</td>\n",
       "      <td>314</td>\n",
       "      <td>103</td>\n",
       "      <td>2</td>\n",
       "      <td>2.0</td>\n",
       "      <td>3.0</td>\n",
       "      <td>8.21</td>\n",
       "      <td>0</td>\n",
       "      <td>0.65</td>\n",
       "    </tr>\n",
       "  </tbody>\n",
       "</table>\n",
       "</div>"
      ],
      "text/plain": [
       "   Serial No.  GRE Score  TOEFL Score  University Rating  SOP  LOR   CGPA  \\\n",
       "0           1        337          118                  4  4.5   4.5  9.65   \n",
       "1           2        324          107                  4  4.0   4.5  8.87   \n",
       "2           3        316          104                  3  3.0   3.5  8.00   \n",
       "3           4        322          110                  3  3.5   2.5  8.67   \n",
       "4           5        314          103                  2  2.0   3.0  8.21   \n",
       "\n",
       "   Research  Chance of Admit   \n",
       "0         1              0.92  \n",
       "1         1              0.76  \n",
       "2         1              0.72  \n",
       "3         1              0.80  \n",
       "4         0              0.65  "
      ]
     },
     "execution_count": 13,
     "metadata": {},
     "output_type": "execute_result"
    }
   ],
   "source": [
    "import pandas as pd\n",
    "\n",
    "df = pd.read_csv('dataset/Admission_Predict.csv') # UNIX\n",
    "df.head()"
   ]
  },
  {
   "cell_type": "code",
   "execution_count": 15,
   "id": "legislative-johnson",
   "metadata": {},
   "outputs": [
    {
     "data": {
      "text/html": [
       "<div>\n",
       "<style scoped>\n",
       "    .dataframe tbody tr th:only-of-type {\n",
       "        vertical-align: middle;\n",
       "    }\n",
       "\n",
       "    .dataframe tbody tr th {\n",
       "        vertical-align: top;\n",
       "    }\n",
       "\n",
       "    .dataframe thead th {\n",
       "        text-align: right;\n",
       "    }\n",
       "</style>\n",
       "<table border=\"1\" class=\"dataframe\">\n",
       "  <thead>\n",
       "    <tr style=\"text-align: right;\">\n",
       "      <th></th>\n",
       "      <th>Serial No.</th>\n",
       "      <th>GRE Score</th>\n",
       "      <th>TOEFL Score</th>\n",
       "      <th>University Rating</th>\n",
       "      <th>SOP</th>\n",
       "      <th>LOR</th>\n",
       "      <th>CGPA</th>\n",
       "      <th>Research</th>\n",
       "      <th>Serial Number</th>\n",
       "    </tr>\n",
       "    <tr>\n",
       "      <th>Chance of Admit</th>\n",
       "      <th></th>\n",
       "      <th></th>\n",
       "      <th></th>\n",
       "      <th></th>\n",
       "      <th></th>\n",
       "      <th></th>\n",
       "      <th></th>\n",
       "      <th></th>\n",
       "      <th></th>\n",
       "    </tr>\n",
       "  </thead>\n",
       "  <tbody>\n",
       "    <tr>\n",
       "      <th>0.92</th>\n",
       "      <td>1</td>\n",
       "      <td>337</td>\n",
       "      <td>118</td>\n",
       "      <td>4</td>\n",
       "      <td>4.5</td>\n",
       "      <td>4.5</td>\n",
       "      <td>9.65</td>\n",
       "      <td>1</td>\n",
       "      <td>0</td>\n",
       "    </tr>\n",
       "    <tr>\n",
       "      <th>0.76</th>\n",
       "      <td>2</td>\n",
       "      <td>324</td>\n",
       "      <td>107</td>\n",
       "      <td>4</td>\n",
       "      <td>4.0</td>\n",
       "      <td>4.5</td>\n",
       "      <td>8.87</td>\n",
       "      <td>1</td>\n",
       "      <td>1</td>\n",
       "    </tr>\n",
       "    <tr>\n",
       "      <th>0.72</th>\n",
       "      <td>3</td>\n",
       "      <td>316</td>\n",
       "      <td>104</td>\n",
       "      <td>3</td>\n",
       "      <td>3.0</td>\n",
       "      <td>3.5</td>\n",
       "      <td>8.00</td>\n",
       "      <td>1</td>\n",
       "      <td>2</td>\n",
       "    </tr>\n",
       "    <tr>\n",
       "      <th>0.80</th>\n",
       "      <td>4</td>\n",
       "      <td>322</td>\n",
       "      <td>110</td>\n",
       "      <td>3</td>\n",
       "      <td>3.5</td>\n",
       "      <td>2.5</td>\n",
       "      <td>8.67</td>\n",
       "      <td>1</td>\n",
       "      <td>3</td>\n",
       "    </tr>\n",
       "    <tr>\n",
       "      <th>0.65</th>\n",
       "      <td>5</td>\n",
       "      <td>314</td>\n",
       "      <td>103</td>\n",
       "      <td>2</td>\n",
       "      <td>2.0</td>\n",
       "      <td>3.0</td>\n",
       "      <td>8.21</td>\n",
       "      <td>0</td>\n",
       "      <td>4</td>\n",
       "    </tr>\n",
       "  </tbody>\n",
       "</table>\n",
       "</div>"
      ],
      "text/plain": [
       "                  Serial No.  GRE Score  TOEFL Score  University Rating  SOP  \\\n",
       "Chance of Admit                                                                \n",
       "0.92                       1        337          118                  4  4.5   \n",
       "0.76                       2        324          107                  4  4.0   \n",
       "0.72                       3        316          104                  3  3.0   \n",
       "0.80                       4        322          110                  3  3.5   \n",
       "0.65                       5        314          103                  2  2.0   \n",
       "\n",
       "                  LOR   CGPA  Research  Serial Number  \n",
       "Chance of Admit                                        \n",
       "0.92               4.5  9.65         1              0  \n",
       "0.76               4.5  8.87         1              1  \n",
       "0.72               3.5  8.00         1              2  \n",
       "0.80               2.5  8.67         1              3  \n",
       "0.65               3.0  8.21         0              4  "
      ]
     },
     "execution_count": 15,
     "metadata": {},
     "output_type": "execute_result"
    }
   ],
   "source": [
    "df['Serial Number'] = df.index\n",
    "df = df.set_index('Chance of Admit ')\n",
    "df.head()"
   ]
  },
  {
   "cell_type": "code",
   "execution_count": null,
   "id": "lined-cigarette",
   "metadata": {},
   "outputs": [],
   "source": []
  },
  {
   "cell_type": "code",
   "execution_count": null,
   "id": "quarterly-terminal",
   "metadata": {},
   "outputs": [],
   "source": []
  },
  {
   "cell_type": "code",
   "execution_count": null,
   "id": "behind-providence",
   "metadata": {},
   "outputs": [],
   "source": [
    "import pandas as pd\n",
    "\n",
    "sdata = {'Ohio': 35000, 'Texas': 71000, 'Oregon': 16000, 'Utah': 5000}\n",
    "obj1 = pd.Series(sdata)\n",
    "states = ['California', 'Ohio', 'Oregon', 'Texas']\n",
    "obj2 = pd.Series(sdata, index=states)\n",
    "obj3 = pd.isnull(obj2)"
   ]
  },
  {
   "cell_type": "code",
   "execution_count": null,
   "id": "coral-carolina",
   "metadata": {},
   "outputs": [],
   "source": [
    "x = obj2['California']\n",
    "obj2['California'] != x"
   ]
  },
  {
   "cell_type": "code",
   "execution_count": null,
   "id": "european-nightlife",
   "metadata": {},
   "outputs": [],
   "source": [
    "obj2['California'] == None"
   ]
  },
  {
   "cell_type": "code",
   "execution_count": null,
   "id": "rotary-collins",
   "metadata": {},
   "outputs": [],
   "source": [
    "import math\n",
    "math.isnan(obj2['California'])"
   ]
  },
  {
   "cell_type": "code",
   "execution_count": null,
   "id": "confirmed-springer",
   "metadata": {},
   "outputs": [],
   "source": [
    "obj3['California']"
   ]
  },
  {
   "cell_type": "code",
   "execution_count": null,
   "id": "atmospheric-aircraft",
   "metadata": {},
   "outputs": [],
   "source": [
    "obj3"
   ]
  },
  {
   "cell_type": "code",
   "execution_count": null,
   "id": "coordinate-impression",
   "metadata": {},
   "outputs": [],
   "source": [
    "import pandas as pd\n",
    "d = {\n",
    "    '1': 'Alice',\n",
    "    '2': 'Bob',\n",
    "    '3': 'Rita',\n",
    "    '4': 'Molly',\n",
    "    '5': 'Ryan'\n",
    "}\n",
    "S = pd.Series(d)\n",
    "S.iloc[0:3]"
   ]
  },
  {
   "cell_type": "code",
   "execution_count": null,
   "id": "industrial-butter",
   "metadata": {},
   "outputs": [],
   "source": [
    "students = [{'Name':'AA', 'Class':'Phy', 'Score':85},\n",
    "            {'Name':'BB', 'Class':'Chem', 'Score':82},\n",
    "            {'Name':'CC', 'Class':'Bio', 'Score':98}]\n",
    "df = pd.DataFrame(students, index=['school1','school2','school1'])\n",
    "\n",
    "# df.rename(mapper = lambda x:x.upper(), axis=1)\n",
    "# df\n",
    "\n",
    "# df = df.rename(mapper = lambda x:x.upper(), axis=1)\n",
    "# df\n",
    "\n",
    "# df = df.rename(mapper = lambda x:x.upper(), axis='columns')\n",
    "# df\n",
    "\n",
    "df.rename(mapper = lambda x:x.upper(), axis=1, inplace='True')\n",
    "df"
   ]
  },
  {
   "cell_type": "code",
   "execution_count": null,
   "id": "sixth-bachelor",
   "metadata": {},
   "outputs": [],
   "source": [
    "df = df.rename(mapper = lambda x:x.upper(), axis=1)\n",
    "df"
   ]
  },
  {
   "cell_type": "code",
   "execution_count": null,
   "id": "manufactured-spelling",
   "metadata": {},
   "outputs": [],
   "source": [
    "toefl_score = [\n",
    "    {'Serial No':1, 'gre score':337, 'toefl score':118},\n",
    "    {'Serial No':2, 'gre score':327, 'toefl score':108},\n",
    "    {'Serial No':3, 'gre score':317, 'toefl score':100},\n",
    "    {'Serial No':4, 'gre score':307},\n",
    "    {'Serial No':4, 'toefl score':107}\n",
    "]\n",
    "df = pd.DataFrame(toefl_score)\n",
    "df[df['toefl score'] > 105].dropna()"
   ]
  },
  {
   "cell_type": "code",
   "execution_count": null,
   "id": "sharp-bobby",
   "metadata": {},
   "outputs": [],
   "source": [
    "locations = [\n",
    "    {'one':0, 'two':1, 'three':2},\n",
    "    {'one':4, 'two':5, 'three':6},\n",
    "    {'one':8, 'two':9, 'three':10}\n",
    "]\n",
    "df = pd.DataFrame(locations, index = ['Ohio', 'Colorado', 'Utah'])\n",
    "# df.drop(['Ohio', 'Utah'])\n",
    "# df.drop('Ohio')\n",
    "df.drop('two', axis =1)  # df.drop('two') should claim \"axis\""
   ]
  },
  {
   "cell_type": "code",
   "execution_count": null,
   "id": "noted-kernel",
   "metadata": {},
   "outputs": [],
   "source": [
    "import pandas as pd\n",
    "s1 = pd.Series({1: 'Alice', 2: 'Jack', 3: 'Molly'})\n",
    "# s1.loc[1]\n",
    "s2 = pd.Series({'Alice': 1, 'Jack': 2, 'Molly': 3})\n",
    "# s2.loc[1] # Error!!\n",
    "# s2[1] # 2\n",
    "# s2.iloc[1] # 2"
   ]
  },
  {
   "cell_type": "code",
   "execution_count": null,
   "id": "directed-pride",
   "metadata": {},
   "outputs": [],
   "source": [
    "aa_classes = pd.Series(['Phy', 'Chem', 'Eng', 'Hist'], index=['AA', 'AA', 'AA', 'AA'])\n",
    "aa_classes['AA']"
   ]
  },
  {
   "cell_type": "code",
   "execution_count": 8,
   "id": "rising-driver",
   "metadata": {},
   "outputs": [
    {
     "data": {
      "text/html": [
       "<div>\n",
       "<style scoped>\n",
       "    .dataframe tbody tr th:only-of-type {\n",
       "        vertical-align: middle;\n",
       "    }\n",
       "\n",
       "    .dataframe tbody tr th {\n",
       "        vertical-align: top;\n",
       "    }\n",
       "\n",
       "    .dataframe thead th {\n",
       "        text-align: right;\n",
       "    }\n",
       "</style>\n",
       "<table border=\"1\" class=\"dataframe\">\n",
       "  <thead>\n",
       "    <tr style=\"text-align: right;\">\n",
       "      <th></th>\n",
       "      <th>Serial No</th>\n",
       "      <th>gre score</th>\n",
       "      <th>toefl score</th>\n",
       "    </tr>\n",
       "  </thead>\n",
       "  <tbody>\n",
       "    <tr>\n",
       "      <th>1</th>\n",
       "      <td>2</td>\n",
       "      <td>327.0</td>\n",
       "      <td>108.0</td>\n",
       "    </tr>\n",
       "  </tbody>\n",
       "</table>\n",
       "</div>"
      ],
      "text/plain": [
       "   Serial No  gre score  toefl score\n",
       "1          2      327.0        108.0"
      ]
     },
     "execution_count": 8,
     "metadata": {},
     "output_type": "execute_result"
    }
   ],
   "source": [
    "toefl_score = [\n",
    "    {'Serial No':1, 'gre score':337, 'toefl score':115},\n",
    "    {'Serial No':2, 'gre score':327, 'toefl score':108},\n",
    "    {'Serial No':3, 'gre score':317, 'toefl score':100},\n",
    "    {'Serial No':4, 'gre score':307},\n",
    "    {'Serial No':4, 'toefl score':105}\n",
    "]\n",
    "df = pd.DataFrame(toefl_score)\n",
    "df[(df['toefl score'].isin(range(106,115)))]"
   ]
  },
  {
   "cell_type": "code",
   "execution_count": null,
   "id": "suffering-disclaimer",
   "metadata": {},
   "outputs": [],
   "source": [
    "(df['toefl score'] > 105 ) & (df['toefl score'] < 115 ) # Will give boll Series\n",
    "df[(df['toefl score'] > 105 ) & (df['toefl score'] < 115 )]"
   ]
  },
  {
   "cell_type": "code",
   "execution_count": 11,
   "id": "therapeutic-commander",
   "metadata": {},
   "outputs": [
    {
     "data": {
      "text/html": [
       "<div>\n",
       "<style scoped>\n",
       "    .dataframe tbody tr th:only-of-type {\n",
       "        vertical-align: middle;\n",
       "    }\n",
       "\n",
       "    .dataframe tbody tr th {\n",
       "        vertical-align: top;\n",
       "    }\n",
       "\n",
       "    .dataframe thead th {\n",
       "        text-align: right;\n",
       "    }\n",
       "</style>\n",
       "<table border=\"1\" class=\"dataframe\">\n",
       "  <thead>\n",
       "    <tr style=\"text-align: right;\">\n",
       "      <th></th>\n",
       "      <th>Serial No</th>\n",
       "      <th>gre score</th>\n",
       "      <th>toefl score</th>\n",
       "    </tr>\n",
       "  </thead>\n",
       "  <tbody>\n",
       "    <tr>\n",
       "      <th>1</th>\n",
       "      <td>2</td>\n",
       "      <td>327.0</td>\n",
       "      <td>108.0</td>\n",
       "    </tr>\n",
       "  </tbody>\n",
       "</table>\n",
       "</div>"
      ],
      "text/plain": [
       "   Serial No  gre score  toefl score\n",
       "1          2      327.0        108.0"
      ]
     },
     "execution_count": 11,
     "metadata": {},
     "output_type": "execute_result"
    }
   ],
   "source": [
    "df[(df['toefl score'].gt(105) ) & (df['toefl score'].lt(115) )]"
   ]
  },
  {
   "cell_type": "code",
   "execution_count": null,
   "id": "french-ending",
   "metadata": {},
   "outputs": [],
   "source": [
    "locations = [\n",
    "    {'Name':'Alice', 'Age':1, 'Gender':'F'},\n",
    "    {'Name':'Jack', 'Age':5, 'Gender':'M'},\n",
    "    {'Name':'Alice', 'Age':5, 'Gender':'M'}\n",
    "]\n",
    "df = pd.DataFrame(locations, index = ['Mathmatics', 'Sociology', 'Math'])\n",
    "df.T['Mathmatics']"
   ]
  }
 ],
 "metadata": {
  "kernelspec": {
   "display_name": "Python 3",
   "language": "python",
   "name": "python3"
  },
  "language_info": {
   "codemirror_mode": {
    "name": "ipython",
    "version": 3
   },
   "file_extension": ".py",
   "mimetype": "text/x-python",
   "name": "python",
   "nbconvert_exporter": "python",
   "pygments_lexer": "ipython3",
   "version": "3.8.2"
  }
 },
 "nbformat": 4,
 "nbformat_minor": 5
}

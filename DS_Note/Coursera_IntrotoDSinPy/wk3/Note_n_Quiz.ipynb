{
 "cells": [
  {
   "cell_type": "code",
   "execution_count": null,
   "id": "emerging-field",
   "metadata": {},
   "outputs": [],
   "source": [
    "import pandas as pd\n",
    "\n",
    "# left join, index as link key\n",
    "pd.merge(df1,df2, how='left', left_index=True,right_index=True)"
   ]
  },
  {
   "cell_type": "markdown",
   "id": "impressive-convertible",
   "metadata": {},
   "source": [
    "df w/ clos: ['col1','col2','col3','col4','col5','col6']\n",
    "\n",
    "Get Avg from col1 ~ col2\n",
    "\n",
    "Delete Col1~col6"
   ]
  },
  {
   "cell_type": "code",
   "execution_count": null,
   "id": "official-picture",
   "metadata": {},
   "outputs": [],
   "source": [
    "frames = ['col1','col2','col3','col4','col5','col6']\n",
    "df['AVG'] = df[frames].apply(lamda Z: np.mean(z), axis=x)\n",
    "result_df = df.drop(frames,axis=y)\n",
    "\n",
    "# axis = 0 (down), axis = 1 (across)\n",
    "# x = 1: average \"across\" \n",
    "# y = 0: delete \"downward\""
   ]
  },
  {
   "cell_type": "code",
   "execution_count": 2,
   "id": "aware-thousand",
   "metadata": {},
   "outputs": [
    {
     "data": {
      "text/plain": [
       "excellent    A-\n",
       "good         B+\n",
       "Name: Grades, dtype: category\n",
       "Categories (11, object): ['D' < 'D+' < 'C-' < 'C' ... 'B+' < 'A-' < 'A' < 'A+']"
      ]
     },
     "execution_count": 2,
     "metadata": {},
     "output_type": "execute_result"
    }
   ],
   "source": [
    "import pandas as pd\n",
    "\n",
    "df = pd.DataFrame(['A+', 'A', 'A-', 'B+', 'B', 'B-', 'C+', 'C', 'C-', 'D+', 'D'], index=['excellent', 'excellent', 'excellent', 'good', 'good', 'good', 'ok', 'ok', 'ok', 'poor', 'poor'], columns = ['Grades'])\n",
    "my_categories= pd.CategoricalDtype(categories=['D','D+', 'C-','C','C+', 'B-','B','B+', 'A-','A','A+'], ordered=True)\n",
    "grades = df['Grades'].astype(my_categories)\n",
    "result = grades[(grades>'B') & (grades<'A')]\n",
    "result"
   ]
  },
  {
   "cell_type": "code",
   "execution_count": null,
   "id": "honest-harrison",
   "metadata": {},
   "outputs": [],
   "source": [
    "df.pivot_table(values='score', index='country', columns='Rank_level', aggfunc=[np.median],margins=True)\n",
    "\n",
    "'''\n",
    "values: input vars\n",
    "index: row index\n",
    "columns:\n",
    "aggfunc: add all row/cols \n",
    "'''"
   ]
  },
  {
   "cell_type": "code",
   "execution_count": 5,
   "id": "legitimate-mailing",
   "metadata": {},
   "outputs": [
    {
     "data": {
      "text/plain": [
       "<MonthEnd>"
      ]
     },
     "execution_count": 5,
     "metadata": {},
     "output_type": "execute_result"
    }
   ],
   "source": [
    "import pandas as pd\n",
    "\n",
    "(pd.Timestamp('11/29/2019') + pd.offsets.MonthEnd()).weekday() # Sat."
   ]
  },
  {
   "cell_type": "code",
   "execution_count": 6,
   "id": "canadian-slovak",
   "metadata": {},
   "outputs": [
    {
     "data": {
      "text/plain": [
       "Period('2019-06', 'M')"
      ]
     },
     "execution_count": 6,
     "metadata": {},
     "output_type": "execute_result"
    }
   ],
   "source": [
    "pd.Period('01/12/2019', 'M') + 5"
   ]
  }
 ],
 "metadata": {
  "kernelspec": {
   "display_name": "Python 3",
   "language": "python",
   "name": "python3"
  },
  "language_info": {
   "codemirror_mode": {
    "name": "ipython",
    "version": 3
   },
   "file_extension": ".py",
   "mimetype": "text/x-python",
   "name": "python",
   "nbconvert_exporter": "python",
   "pygments_lexer": "ipython3",
   "version": "3.8.3"
  }
 },
 "nbformat": 4,
 "nbformat_minor": 5
}

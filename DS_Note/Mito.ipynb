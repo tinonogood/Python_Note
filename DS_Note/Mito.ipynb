{
 "cells": [
  {
   "cell_type": "code",
   "execution_count": null,
   "id": "racial-equipment",
   "metadata": {},
   "outputs": [],
   "source": [
    "# py3 and npm are prerequisite\n",
    "#\n",
    "# https://docs.trymito.io/getting-started/installing-mito\n",
    "#\n",
    "# pip install mitosheet\n",
    "# jupyter labextension install @jupyter-widgets/jupyterlab-manager@2\n",
    "# jupyter lab\n",
    "\n",
    "import mitosheet\n",
    "mitosheet.sheet()"
   ]
  },
  {
   "cell_type": "code",
   "execution_count": null,
   "id": "greek-andorra",
   "metadata": {},
   "outputs": [],
   "source": [
    "# import Python packages\n",
    "import mitosheet\n",
    "import pandas as pd\n",
    "\n",
    "# Create a simple dataframe to display\n",
    "car_data = pd.DataFrame({'car': ['Toyota', 'Nissan', 'Honda', 'Mini Cooper', 'Saturn'], 'mph': [60, 50, 60, 75, 90], 'length': [10, 12, 13, 8, 9]})\n",
    "\n",
    "# render the Mitosheet with car_data\n",
    "mitosheet.sheet(car_data)"
   ]
  },
  {
   "cell_type": "code",
   "execution_count": 2,
   "id": "constitutional-wisconsin",
   "metadata": {},
   "outputs": [
    {
     "data": {
      "application/vnd.jupyter.widget-view+json": {
       "model_id": "d64b88b5faf141a3a34f9b20f69c082c",
       "version_major": 2,
       "version_minor": 0
      },
      "text/plain": [
       "MitoWidget(analysis_name='UUID-7fee618a-1033-4382-9431-fd2d01a92204', code_json='{\"imports\": \"from mitosheet i…"
      ]
     },
     "metadata": {},
     "output_type": "display_data"
    }
   ],
   "source": [
    "import mitosheet\n",
    "import pandas as pd\n",
    "df = pd.read_csv('world_bank.csv')\n",
    "mitosheet.sheet(df)"
   ]
  },
  {
   "cell_type": "code",
   "execution_count": null,
   "id": "identified-integral",
   "metadata": {},
   "outputs": [],
   "source": [
    "# MITO CODE START (DO NOT EDIT)\n",
    "# SAVED-ANALYSIS-STARTUUID-7fee618a-1033-4382-9431-fd2d01a92204SAVED-ANALYSIS-END\n",
    "\n",
    "from mitosheet import *\n",
    "\n",
    "# Step 1 (rename headers to make them work with Mito)\n",
    "\n",
    "df.rename(columns={\"Data Source\": \"Data_Source\", \"World Development Indicators\": \"World_Development_Indicators\", \"Unnamed: 2\": \"Unnamed_2\", \"Unnamed: 3\": \"Unnamed_3\", \"Unnamed: 4\": \"Unnamed_4\", \"Unnamed: 5\": \"Unnamed_5\", \"Unnamed: 6\": \"Unnamed_6\", \"Unnamed: 7\": \"Unnamed_7\", \"Unnamed: 8\": \"Unnamed_8\", \"Unnamed: 9\": \"Unnamed_9\", \"Unnamed: 10\": \"Unnamed_10\", \"Unnamed: 11\": \"Unnamed_11\", \"Unnamed: 12\": \"Unnamed_12\", \"Unnamed: 13\": \"Unnamed_13\", \"Unnamed: 14\": \"Unnamed_14\", \"Unnamed: 15\": \"Unnamed_15\", \"Unnamed: 16\": \"Unnamed_16\", \"Unnamed: 17\": \"Unnamed_17\", \"Unnamed: 18\": \"Unnamed_18\", \"Unnamed: 19\": \"Unnamed_19\", \"Unnamed: 20\": \"Unnamed_20\", \"Unnamed: 21\": \"Unnamed_21\", \"Unnamed: 22\": \"Unnamed_22\", \"Unnamed: 23\": \"Unnamed_23\", \"Unnamed: 24\": \"Unnamed_24\", \"Unnamed: 25\": \"Unnamed_25\", \"Unnamed: 26\": \"Unnamed_26\", \"Unnamed: 27\": \"Unnamed_27\", \"Unnamed: 28\": \"Unnamed_28\", \"Unnamed: 29\": \"Unnamed_29\", \"Unnamed: 30\": \"Unnamed_30\", \"Unnamed: 31\": \"Unnamed_31\", \"Unnamed: 32\": \"Unnamed_32\", \"Unnamed: 33\": \"Unnamed_33\", \"Unnamed: 34\": \"Unnamed_34\", \"Unnamed: 35\": \"Unnamed_35\", \"Unnamed: 36\": \"Unnamed_36\", \"Unnamed: 37\": \"Unnamed_37\", \"Unnamed: 38\": \"Unnamed_38\", \"Unnamed: 39\": \"Unnamed_39\", \"Unnamed: 40\": \"Unnamed_40\", \"Unnamed: 41\": \"Unnamed_41\", \"Unnamed: 42\": \"Unnamed_42\", \"Unnamed: 43\": \"Unnamed_43\", \"Unnamed: 44\": \"Unnamed_44\", \"Unnamed: 45\": \"Unnamed_45\", \"Unnamed: 46\": \"Unnamed_46\", \"Unnamed: 47\": \"Unnamed_47\", \"Unnamed: 48\": \"Unnamed_48\", \"Unnamed: 49\": \"Unnamed_49\", \"Unnamed: 50\": \"Unnamed_50\", \"Unnamed: 51\": \"Unnamed_51\", \"Unnamed: 52\": \"Unnamed_52\", \"Unnamed: 53\": \"Unnamed_53\", \"Unnamed: 54\": \"Unnamed_54\", \"Unnamed: 55\": \"Unnamed_55\", \"Unnamed: 56\": \"Unnamed_56\", \"Unnamed: 57\": \"Unnamed_57\", \"Unnamed: 58\": \"Unnamed_58\", \"Unnamed: 59\": \"Unnamed_59\"}, inplace=True)\n",
    "\n",
    "# Step 2\n",
    "\n",
    "df.rename(columns={\"Data_Source\": \"Country\"}, inplace=True)\n",
    "\n",
    "# Step 3\n",
    "\n",
    "df['BI'] = 0\n",
    "\n",
    "# Step 4\n",
    "\n",
    "df.rename(columns={\"BI\": \"SUM\"}, inplace=True)\n",
    "\n",
    "# Step 5\n",
    "\n",
    "df['SUM'] = SUM(df['Unnamed_2'],df['Unnamed_3'])\n",
    "\n",
    "# Step 6\n",
    "\n",
    "df['SUM'] = SUM(df['Unnamed_4'],df['Unnamed_5'])\n",
    "\n",
    "# Step 7\n",
    "\n",
    "df = df.sort_values(by='SUM', ascending=True, na_position='first')\n",
    "\n",
    "df = df.reset_index(drop=True)\n",
    "\n",
    "# Step 8\n",
    "\n",
    "df.rename(columns={\"SUM\": \"SUM_Uname_4_5\"}, inplace=True)\n",
    "  \n",
    "# MITO CODE END (DO NOT EDIT)"
   ]
  },
  {
   "cell_type": "code",
   "execution_count": null,
   "id": "dramatic-words",
   "metadata": {},
   "outputs": [],
   "source": []
  },
  {
   "cell_type": "code",
   "execution_count": null,
   "id": "raised-vanilla",
   "metadata": {},
   "outputs": [],
   "source": []
  }
 ],
 "metadata": {
  "kernelspec": {
   "display_name": "Python 3",
   "language": "python",
   "name": "python3"
  },
  "language_info": {
   "codemirror_mode": {
    "name": "ipython",
    "version": 3
   },
   "file_extension": ".py",
   "mimetype": "text/x-python",
   "name": "python",
   "nbconvert_exporter": "python",
   "pygments_lexer": "ipython3",
   "version": "3.9.2"
  }
 },
 "nbformat": 4,
 "nbformat_minor": 5
}
